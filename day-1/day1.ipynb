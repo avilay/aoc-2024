{
 "cells": [
  {
   "cell_type": "code",
   "id": "78c21684-ab2d-479d-878c-2a99d17eb554",
   "metadata": {
    "ExecuteTime": {
     "end_time": "2024-12-02T11:42:31.824868Z",
     "start_time": "2024-12-02T11:42:31.821047Z"
    }
   },
   "source": [
    "list_one = []\n",
    "list_two = []\n",
    "\n",
    "with open(\"input.txt\", \"rt\") as fin:\n",
    "    for line in fin:\n",
    "        ids = line.split()\n",
    "        list_one.append(int(ids[0]))\n",
    "        list_two.append(int(ids[1]))"
   ],
   "outputs": [],
   "execution_count": 1
  },
  {
   "cell_type": "code",
   "id": "0d5784d0-2080-4631-9aa9-387df5c486e6",
   "metadata": {
    "ExecuteTime": {
     "end_time": "2024-12-02T11:42:33.617189Z",
     "start_time": "2024-12-02T11:42:33.611347Z"
    }
   },
   "source": [
    "len(list_one)"
   ],
   "outputs": [
    {
     "data": {
      "text/plain": [
       "1000"
      ]
     },
     "execution_count": 2,
     "metadata": {},
     "output_type": "execute_result"
    }
   ],
   "execution_count": 2
  },
  {
   "cell_type": "code",
   "id": "e32cc935-4be9-4ada-bc5f-b1d3fe601f60",
   "metadata": {
    "ExecuteTime": {
     "end_time": "2024-12-02T11:42:34.497670Z",
     "start_time": "2024-12-02T11:42:34.491229Z"
    }
   },
   "source": [
    "len(list_two)"
   ],
   "outputs": [
    {
     "data": {
      "text/plain": [
       "1000"
      ]
     },
     "execution_count": 3,
     "metadata": {},
     "output_type": "execute_result"
    }
   ],
   "execution_count": 3
  },
  {
   "cell_type": "markdown",
   "id": "a6f954bc-cf33-4a04-bd5c-62a5552fcc56",
   "metadata": {},
   "source": [
    "## Part One\n",
    "Calculate distance score."
   ]
  },
  {
   "cell_type": "code",
   "id": "5d25b28e-bc32-4ebb-a78d-4371e3673539",
   "metadata": {
    "ExecuteTime": {
     "end_time": "2024-12-02T11:42:37.280766Z",
     "start_time": "2024-12-02T11:42:37.276596Z"
    }
   },
   "source": [
    "list_one = sorted(list_one)\n",
    "list_two = sorted(list_two)"
   ],
   "outputs": [],
   "execution_count": 4
  },
  {
   "metadata": {
    "ExecuteTime": {
     "end_time": "2024-12-02T11:42:38.548992Z",
     "start_time": "2024-12-02T11:42:38.544592Z"
    }
   },
   "cell_type": "code",
   "source": "distance = sum(abs(one - two) for one, two in zip(list_one, list_two))",
   "id": "3bfe407c7b09573",
   "outputs": [],
   "execution_count": 5
  },
  {
   "cell_type": "code",
   "id": "50004b26-7e1e-44e2-addd-fdc7eab2acb5",
   "metadata": {
    "ExecuteTime": {
     "end_time": "2024-12-02T11:42:39.872689Z",
     "start_time": "2024-12-02T11:42:39.867621Z"
    }
   },
   "source": [
    "distance"
   ],
   "outputs": [
    {
     "data": {
      "text/plain": [
       "1579939"
      ]
     },
     "execution_count": 6,
     "metadata": {},
     "output_type": "execute_result"
    }
   ],
   "execution_count": 6
  },
  {
   "cell_type": "markdown",
   "id": "1a0f1881-9091-473d-bf3d-08754cf73d92",
   "metadata": {},
   "source": [
    "## Part Two\n",
    "Calculate similarity score"
   ]
  },
  {
   "cell_type": "code",
   "id": "8d44d20f-855d-43e4-96e0-444956384518",
   "metadata": {
    "ExecuteTime": {
     "end_time": "2024-12-02T11:43:11.698854Z",
     "start_time": "2024-12-02T11:43:11.695491Z"
    }
   },
   "source": [
    "from collections import Counter"
   ],
   "outputs": [],
   "execution_count": 8
  },
  {
   "cell_type": "code",
   "id": "d94197fe-823a-45f5-82b3-9af67b62c0b4",
   "metadata": {
    "ExecuteTime": {
     "end_time": "2024-12-02T11:43:12.267062Z",
     "start_time": "2024-12-02T11:43:12.264054Z"
    }
   },
   "source": [
    "counts_two = Counter(list_two)"
   ],
   "outputs": [],
   "execution_count": 9
  },
  {
   "cell_type": "code",
   "id": "3cf02087-934c-4eeb-af48-26ce2e4bee79",
   "metadata": {
    "ExecuteTime": {
     "end_time": "2024-12-02T11:43:37.390466Z",
     "start_time": "2024-12-02T11:43:37.387066Z"
    }
   },
   "source": "similarity = sum(lid * counts_two[lid] for lid in list_one)",
   "outputs": [],
   "execution_count": 12
  },
  {
   "metadata": {
    "ExecuteTime": {
     "end_time": "2024-12-02T11:43:39.363452Z",
     "start_time": "2024-12-02T11:43:39.359012Z"
    }
   },
   "cell_type": "code",
   "source": "similarity",
   "id": "91ef19e07e580e33",
   "outputs": [
    {
     "data": {
      "text/plain": [
       "20351745"
      ]
     },
     "execution_count": 13,
     "metadata": {},
     "output_type": "execute_result"
    }
   ],
   "execution_count": 13
  },
  {
   "metadata": {},
   "cell_type": "code",
   "outputs": [],
   "execution_count": null,
   "source": "",
   "id": "159d85705b085c89"
  }
 ],
 "metadata": {
  "kernelspec": {
   "display_name": "Python 3 (ipykernel)",
   "language": "python",
   "name": "python3"
  },
  "language_info": {
   "codemirror_mode": {
    "name": "ipython",
    "version": 3
   },
   "file_extension": ".py",
   "mimetype": "text/x-python",
   "name": "python",
   "nbconvert_exporter": "python",
   "pygments_lexer": "ipython3",
   "version": "3.12.2"
  }
 },
 "nbformat": 4,
 "nbformat_minor": 5
}
