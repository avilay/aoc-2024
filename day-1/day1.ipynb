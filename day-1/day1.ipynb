{
 "cells": [
  {
   "cell_type": "code",
   "execution_count": 3,
   "id": "78c21684-ab2d-479d-878c-2a99d17eb554",
   "metadata": {},
   "outputs": [],
   "source": [
    "list_one = []\n",
    "list_two = []\n",
    "\n",
    "with open(\"input.txt\", \"rt\") as fin:\n",
    "    for line in fin:\n",
    "        ids = line.split()\n",
    "        list_one.append(int(ids[0]))\n",
    "        list_two.append(int(ids[1]))"
   ]
  },
  {
   "cell_type": "code",
   "execution_count": 5,
   "id": "0d5784d0-2080-4631-9aa9-387df5c486e6",
   "metadata": {},
   "outputs": [
    {
     "data": {
      "text/plain": [
       "1000"
      ]
     },
     "execution_count": 5,
     "metadata": {},
     "output_type": "execute_result"
    }
   ],
   "source": [
    "len(list_one)"
   ]
  },
  {
   "cell_type": "code",
   "execution_count": 6,
   "id": "e32cc935-4be9-4ada-bc5f-b1d3fe601f60",
   "metadata": {},
   "outputs": [
    {
     "data": {
      "text/plain": [
       "1000"
      ]
     },
     "execution_count": 6,
     "metadata": {},
     "output_type": "execute_result"
    }
   ],
   "source": [
    "len(list_two)"
   ]
  },
  {
   "cell_type": "markdown",
   "id": "a6f954bc-cf33-4a04-bd5c-62a5552fcc56",
   "metadata": {},
   "source": [
    "## Part One\n",
    "Calculate distance score."
   ]
  },
  {
   "cell_type": "code",
   "execution_count": 7,
   "id": "5d25b28e-bc32-4ebb-a78d-4371e3673539",
   "metadata": {},
   "outputs": [],
   "source": [
    "list_one = sorted(list_one)\n",
    "list_two = sorted(list_two)"
   ]
  },
  {
   "cell_type": "code",
   "execution_count": 8,
   "id": "abad3474-d895-442c-b01b-72cd35938d11",
   "metadata": {},
   "outputs": [],
   "source": [
    "distance = 0\n",
    "for one, two in zip(list_one, list_two):\n",
    "    distance += abs(one - two)"
   ]
  },
  {
   "cell_type": "code",
   "execution_count": 9,
   "id": "50004b26-7e1e-44e2-addd-fdc7eab2acb5",
   "metadata": {},
   "outputs": [
    {
     "data": {
      "text/plain": [
       "1579939"
      ]
     },
     "execution_count": 9,
     "metadata": {},
     "output_type": "execute_result"
    }
   ],
   "source": [
    "distance"
   ]
  },
  {
   "cell_type": "markdown",
   "id": "1a0f1881-9091-473d-bf3d-08754cf73d92",
   "metadata": {},
   "source": [
    "## Part Two\n",
    "Calculate similarity score"
   ]
  },
  {
   "cell_type": "code",
   "execution_count": 10,
   "id": "8d44d20f-855d-43e4-96e0-444956384518",
   "metadata": {},
   "outputs": [],
   "source": [
    "from collections import Counter"
   ]
  },
  {
   "cell_type": "code",
   "execution_count": 11,
   "id": "d94197fe-823a-45f5-82b3-9af67b62c0b4",
   "metadata": {},
   "outputs": [],
   "source": [
    "counts_two = Counter(list_two)"
   ]
  },
  {
   "cell_type": "code",
   "execution_count": 18,
   "id": "1e42a2ad-84ec-446e-8d8d-1d0c45f26a65",
   "metadata": {},
   "outputs": [
    {
     "data": {
      "text/plain": [
       "0"
      ]
     },
     "execution_count": 18,
     "metadata": {},
     "output_type": "execute_result"
    }
   ],
   "source": [
    "counts_two[1]"
   ]
  },
  {
   "cell_type": "code",
   "execution_count": 20,
   "id": "92dfcea6-3b7e-4bf3-98e0-dec3c4efc4fa",
   "metadata": {},
   "outputs": [],
   "source": [
    "similarity = 0\n",
    "for lid in list_one:\n",
    "    freq = counts_two[lid]\n",
    "    similarity += lid * freq"
   ]
  },
  {
   "cell_type": "code",
   "execution_count": 21,
   "id": "4b6c7259-06cd-4221-bf7d-3b21fbab3a3c",
   "metadata": {},
   "outputs": [
    {
     "data": {
      "text/plain": [
       "20351745"
      ]
     },
     "execution_count": 21,
     "metadata": {},
     "output_type": "execute_result"
    }
   ],
   "source": [
    "similarity"
   ]
  },
  {
   "cell_type": "code",
   "execution_count": null,
   "id": "3cf02087-934c-4eeb-af48-26ce2e4bee79",
   "metadata": {},
   "outputs": [],
   "source": []
  }
 ],
 "metadata": {
  "kernelspec": {
   "display_name": "Python 3 (ipykernel)",
   "language": "python",
   "name": "python3"
  },
  "language_info": {
   "codemirror_mode": {
    "name": "ipython",
    "version": 3
   },
   "file_extension": ".py",
   "mimetype": "text/x-python",
   "name": "python",
   "nbconvert_exporter": "python",
   "pygments_lexer": "ipython3",
   "version": "3.12.2"
  }
 },
 "nbformat": 4,
 "nbformat_minor": 5
}
