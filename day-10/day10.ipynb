{
 "cells": [
  {
   "metadata": {
    "ExecuteTime": {
     "end_time": "2024-12-11T10:08:31.863208Z",
     "start_time": "2024-12-11T10:08:31.807817Z"
    }
   },
   "cell_type": "code",
   "source": "%reset -f",
   "id": "db00731b142ba8a5",
   "outputs": [],
   "execution_count": 140
  },
  {
   "metadata": {
    "ExecuteTime": {
     "end_time": "2024-12-11T10:08:32.305808Z",
     "start_time": "2024-12-11T10:08:32.302737Z"
    }
   },
   "cell_type": "code",
   "source": "import numpy as np",
   "id": "418629be9605289f",
   "outputs": [],
   "execution_count": 141
  },
  {
   "metadata": {
    "ExecuteTime": {
     "end_time": "2024-12-11T10:08:33.277804Z",
     "start_time": "2024-12-11T10:08:33.274144Z"
    }
   },
   "cell_type": "code",
   "source": [
    "def parse(lines):\n",
    "    topmap = []\n",
    "    for line in lines:\n",
    "        arr = []\n",
    "        for char in line:\n",
    "            if char != \".\":\n",
    "                arr.append(int(char))\n",
    "            else:\n",
    "                arr.append(11)\n",
    "        topmap.append(arr)\n",
    "    return np.array(topmap)"
   ],
   "id": "74bc3c6c6294f0a2",
   "outputs": [],
   "execution_count": 142
  },
  {
   "metadata": {
    "ExecuteTime": {
     "end_time": "2024-12-11T10:08:33.982736Z",
     "start_time": "2024-12-11T10:08:33.979726Z"
    }
   },
   "cell_type": "code",
   "source": [
    "up = np.array([-1, 0])\n",
    "down = np.array([1, 0])\n",
    "left = np.array([0, -1])\n",
    "right = np.array([0, 1])"
   ],
   "id": "a1933225e7eacd45",
   "outputs": [],
   "execution_count": 143
  },
  {
   "metadata": {
    "ExecuteTime": {
     "end_time": "2024-12-11T10:08:34.520047Z",
     "start_time": "2024-12-11T10:08:34.517142Z"
    }
   },
   "cell_type": "code",
   "source": [
    "def within_bounds(topmap, coords):\n",
    "    n_rows, n_cols = topmap.shape\n",
    "    return (0 <= coords[0] < n_rows) and (0 <= coords[1] < n_cols)"
   ],
   "id": "fd1d57e168d6c259",
   "outputs": [],
   "execution_count": 144
  },
  {
   "metadata": {
    "ExecuteTime": {
     "end_time": "2024-12-11T09:56:28.021922Z",
     "start_time": "2024-12-11T09:56:28.018678Z"
    }
   },
   "cell_type": "code",
   "source": [
    "def get_scores(topmap):\n",
    "    # all_trails = []\n",
    "    trailhead_scores = {}\n",
    "    max_score_coords = 0\n",
    "\n",
    "    def _backtrack(scores, trail):\n",
    "        start = trail[-1]\n",
    "        height = topmap[*start]\n",
    "\n",
    "        if height == 9:\n",
    "            # all_trails.append(copy(trail))\n",
    "            scores.add((start.item(0), start.item(1)))\n",
    "            return\n",
    "\n",
    "        for next_step in (start + up, start + down, start + left, start + right):\n",
    "            if within_bounds(topmap, next_step) and topmap[*next_step] == height + 1:\n",
    "                trail.append(next_step)\n",
    "                _backtrack(scores, trail)\n",
    "                if len(scores) == max_score_coords: return\n",
    "                trail.pop()\n",
    "\n",
    "    max_score_coords = np.argwhere(topmap == 9).shape[0]\n",
    "    for trailhead in np.argwhere(topmap == 0):\n",
    "        coords = (trailhead.item(0), trailhead.item(1))\n",
    "        trailhead_scores[coords] = set()\n",
    "        _backtrack(trailhead_scores[coords], [trailhead])\n",
    "\n",
    "    return trailhead_scores\n"
   ],
   "id": "b059f789f0006475",
   "outputs": [],
   "execution_count": 110
  },
  {
   "metadata": {
    "ExecuteTime": {
     "end_time": "2024-12-11T09:56:28.783932Z",
     "start_time": "2024-12-11T09:56:28.780510Z"
    }
   },
   "cell_type": "code",
   "source": [
    "def final_score(trailhead_scores):\n",
    "    return sum(len(scores) for scores in trailhead_scores.values())"
   ],
   "id": "cae380988812a950",
   "outputs": [],
   "execution_count": 111
  },
  {
   "metadata": {
    "ExecuteTime": {
     "end_time": "2024-12-11T09:56:29.212479Z",
     "start_time": "2024-12-11T09:56:29.209009Z"
    }
   },
   "cell_type": "code",
   "source": [
    "test_input_1 = \"\"\"\n",
    "0123\n",
    "1234\n",
    "8765\n",
    "9876\n",
    "\"\"\"\n",
    "\n",
    "test_input_2 = \"\"\"\n",
    "...0...\n",
    "...1...\n",
    "...2...\n",
    "6543456\n",
    "7.....7\n",
    "8.....8\n",
    "9.....9\n",
    "\"\"\"\n",
    "\n",
    "test_input_3 = \"\"\"\n",
    "..90..9\n",
    "...1.98\n",
    "...2..7\n",
    "6543456\n",
    "765.987\n",
    "876....\n",
    "987....\n",
    "\"\"\"\n",
    "\n",
    "test_input_4 = \"\"\"\n",
    "10..9..\n",
    "2...8..\n",
    "3...7..\n",
    "4567654\n",
    "...8..3\n",
    "...9..2\n",
    ".....01\n",
    "\"\"\"\n",
    "\n",
    "test_input_5 = \"\"\"\n",
    "89010123\n",
    "78121874\n",
    "87430965\n",
    "96549874\n",
    "45678903\n",
    "32019012\n",
    "01329801\n",
    "10456732\n",
    "\"\"\""
   ],
   "id": "f87b7b945315b66f",
   "outputs": [],
   "execution_count": 112
  },
  {
   "metadata": {
    "ExecuteTime": {
     "end_time": "2024-12-11T09:56:29.810350Z",
     "start_time": "2024-12-11T09:56:29.805457Z"
    }
   },
   "cell_type": "code",
   "source": [
    "for test_input in [test_input_1, test_input_2, test_input_3, test_input_4, test_input_5]:\n",
    "    topmap = parse(test_input.splitlines()[1:])\n",
    "    tscores = get_scores(topmap)\n",
    "    print(tscores)\n",
    "    print(final_score(tscores))\n",
    "    print(\"\\n\")"
   ],
   "id": "227b7e0fc7defecd",
   "outputs": [
    {
     "name": "stdout",
     "output_type": "stream",
     "text": [
      "{(0, 0): {(3, 0)}}\n",
      "1\n",
      "\n",
      "\n",
      "{(0, 3): {(6, 6), (6, 0)}}\n",
      "2\n",
      "\n",
      "\n",
      "{(0, 3): {(4, 4), (1, 5), (0, 6), (6, 0)}}\n",
      "4\n",
      "\n",
      "\n",
      "{(0, 1): {(5, 3)}, (6, 5): {(5, 3), (0, 4)}}\n",
      "3\n",
      "\n",
      "\n",
      "{(0, 2): {(0, 1), (3, 4), (5, 4), (3, 0), (4, 5)}, (0, 4): {(0, 1), (3, 4), (5, 4), (3, 0), (4, 5), (2, 5)}, (2, 4): {(0, 1), (3, 4), (5, 4), (3, 0), (4, 5)}, (4, 6): {(4, 5), (2, 5), (3, 4)}, (5, 2): {(6, 4)}, (5, 5): {(4, 5), (2, 5), (3, 4)}, (6, 0): {(0, 1), (3, 4), (5, 4), (3, 0), (4, 5)}, (6, 6): {(4, 5), (2, 5), (3, 4)}, (7, 1): {(0, 1), (3, 4), (5, 4), (3, 0), (4, 5)}}\n",
      "36\n",
      "\n",
      "\n"
     ]
    }
   ],
   "execution_count": 113
  },
  {
   "metadata": {
    "ExecuteTime": {
     "end_time": "2024-12-11T10:08:41.298465Z",
     "start_time": "2024-12-11T10:08:41.295134Z"
    }
   },
   "cell_type": "code",
   "source": "from pathlib import Path",
   "id": "4ca1055066c168c2",
   "outputs": [],
   "execution_count": 145
  },
  {
   "metadata": {
    "ExecuteTime": {
     "end_time": "2024-12-11T09:56:59.153336Z",
     "start_time": "2024-12-11T09:56:59.102128Z"
    }
   },
   "cell_type": "code",
   "source": [
    "topmap = parse(Path(\"input.txt\").read_text().splitlines())\n",
    "tscores = get_scores(topmap)\n",
    "print(final_score(tscores))"
   ],
   "id": "ea37cf630c402c27",
   "outputs": [
    {
     "name": "stdout",
     "output_type": "stream",
     "text": [
      "698\n"
     ]
    }
   ],
   "execution_count": 115
  },
  {
   "metadata": {
    "ExecuteTime": {
     "end_time": "2024-12-11T10:08:43.250287Z",
     "start_time": "2024-12-11T10:08:43.243957Z"
    }
   },
   "cell_type": "code",
   "source": [
    "def get_ratings(topmap):\n",
    "    trailhead_ratings = {}\n",
    "\n",
    "    def _backtrack(rating, trail):\n",
    "        start = trail[-1]\n",
    "        height = topmap[*start]\n",
    "\n",
    "        if height == 9:\n",
    "            rating += 1\n",
    "            return rating\n",
    "\n",
    "        for next_step in (start + up, start + down, start + left, start + right):\n",
    "            if within_bounds(topmap, next_step) and topmap[*next_step] == height + 1:\n",
    "                trail.append(next_step)\n",
    "                rating = _backtrack(rating, trail)\n",
    "                trail.pop()\n",
    "\n",
    "        return rating\n",
    "\n",
    "    for trailhead in np.argwhere(topmap == 0):\n",
    "        coords = (trailhead.item(0), trailhead.item(1))\n",
    "        trailhead_ratings[coords] = _backtrack(0, [trailhead])\n",
    "\n",
    "    return trailhead_ratings\n"
   ],
   "id": "66cd516ea3fc6631",
   "outputs": [],
   "execution_count": 146
  },
  {
   "metadata": {
    "ExecuteTime": {
     "end_time": "2024-12-11T10:07:07.998522Z",
     "start_time": "2024-12-11T10:07:07.995401Z"
    }
   },
   "cell_type": "code",
   "source": [
    "test_input_1 = \"\"\"\n",
    ".....0.\n",
    "..4321.\n",
    "..5..2.\n",
    "..6543.\n",
    "..7..4.\n",
    "..8765.\n",
    "..9....\n",
    "\"\"\"\n",
    "\n",
    "test_input_2 = \"\"\"\n",
    "..90..9\n",
    "...1.98\n",
    "...2..7\n",
    "6543456\n",
    "765.987\n",
    "876....\n",
    "987....\n",
    "\"\"\"\n",
    "\n",
    "test_input_3 = \"\"\"\n",
    "012345\n",
    "123456\n",
    "234567\n",
    "345678\n",
    "4.6789\n",
    "56789.\n",
    "\"\"\"\n",
    "\n",
    "test_input_4 = \"\"\"\n",
    "89010123\n",
    "78121874\n",
    "87430965\n",
    "96549874\n",
    "45678903\n",
    "32019012\n",
    "01329801\n",
    "10456732\n",
    "\"\"\""
   ],
   "id": "b3c1fc19738c3dbd",
   "outputs": [],
   "execution_count": 134
  },
  {
   "metadata": {
    "ExecuteTime": {
     "end_time": "2024-12-11T10:07:24.176122Z",
     "start_time": "2024-12-11T10:07:24.165546Z"
    }
   },
   "cell_type": "code",
   "source": [
    "for test_input in [test_input_1, test_input_2, test_input_3, test_input_4]:\n",
    "    topmap = parse(test_input.splitlines()[1:])\n",
    "    tratings = get_ratings(topmap)\n",
    "    final_rating = sum(tratings.values())\n",
    "    print(tratings)\n",
    "    print(final_rating)\n",
    "    print(\"\\n\")"
   ],
   "id": "846c0414b0f5b99a",
   "outputs": [
    {
     "name": "stdout",
     "output_type": "stream",
     "text": [
      "{(0, 5): 3}\n",
      "3\n",
      "\n",
      "\n",
      "{(0, 3): 13}\n",
      "13\n",
      "\n",
      "\n",
      "{(0, 0): 227}\n",
      "227\n",
      "\n",
      "\n",
      "{(0, 2): 20, (0, 4): 24, (2, 4): 10, (4, 6): 4, (5, 2): 1, (5, 5): 4, (6, 0): 5, (6, 6): 8, (7, 1): 5}\n",
      "81\n",
      "\n",
      "\n"
     ]
    }
   ],
   "execution_count": 137
  },
  {
   "metadata": {
    "ExecuteTime": {
     "end_time": "2024-12-11T10:09:03.186339Z",
     "start_time": "2024-12-11T10:09:03.131272Z"
    }
   },
   "cell_type": "code",
   "source": [
    "topmap = parse(Path(\"input.txt\").read_text().splitlines())\n",
    "tratings = get_ratings(topmap)\n",
    "final_rating = sum(tratings.values())\n",
    "print(final_rating)"
   ],
   "id": "22c1e487fcfccf6a",
   "outputs": [
    {
     "name": "stdout",
     "output_type": "stream",
     "text": [
      "1436\n"
     ]
    }
   ],
   "execution_count": 148
  },
  {
   "metadata": {},
   "cell_type": "code",
   "outputs": [],
   "execution_count": null,
   "source": "",
   "id": "974f37fc2836e7cf"
  }
 ],
 "metadata": {
  "kernelspec": {
   "display_name": "Python 3 (ipykernel)",
   "language": "python",
   "name": "python3"
  },
  "language_info": {
   "codemirror_mode": {
    "name": "ipython",
    "version": 3
   },
   "file_extension": ".py",
   "mimetype": "text/x-python",
   "name": "python",
   "nbconvert_exporter": "python",
   "pygments_lexer": "ipython3",
   "version": "3.12.7"
  }
 },
 "nbformat": 4,
 "nbformat_minor": 5
}
