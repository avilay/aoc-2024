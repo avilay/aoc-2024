{
 "cells": [
  {
   "cell_type": "code",
   "execution_count": 1,
   "id": "9ffeb4b4-0eaa-4779-ad14-13429d5f0e37",
   "metadata": {},
   "outputs": [],
   "source": [
    "def flatten(arr):\n",
    "    flat_arr = []\n",
    "    for elem in arr:\n",
    "        if isinstance(elem, list):\n",
    "            flat_arr += flatten(elem)\n",
    "        else:\n",
    "            flat_arr.append(elem)\n",
    "    return flat_arr"
   ]
  },
  {
   "cell_type": "code",
   "execution_count": 2,
   "id": "dd13173a-1949-461b-9087-6205c8fc1285",
   "metadata": {},
   "outputs": [
    {
     "data": {
      "text/plain": [
       "[1, 2, 3, 4, 5, 6, 7, 8, 9]"
      ]
     },
     "execution_count": 2,
     "metadata": {},
     "output_type": "execute_result"
    }
   ],
   "source": [
    "a = [\n",
    "    [1, 2, 3],\n",
    "    4,\n",
    "    [5, [6, 7], 8],\n",
    "    9]\n",
    "flatten(a)"
   ]
  },
  {
   "cell_type": "code",
   "execution_count": 3,
   "id": "e6f7f7d0-237f-443f-8770-734476a98658",
   "metadata": {},
   "outputs": [],
   "source": [
    "stones = [125, 17]"
   ]
  },
  {
   "cell_type": "code",
   "execution_count": 15,
   "id": "3443f6df-4047-4454-9609-e7796f787161",
   "metadata": {},
   "outputs": [],
   "source": [
    "def to_digits(n: int) -> list[int]:\n",
    "    ds = []\n",
    "    while n >= 10:\n",
    "        ds.append(n % 10)\n",
    "        n = n // 10\n",
    "    ds.append(n)\n",
    "    return list(reversed(ds))"
   ]
  },
  {
   "cell_type": "code",
   "execution_count": 16,
   "id": "904b0f3e-ba55-4648-af13-070b899a809d",
   "metadata": {},
   "outputs": [],
   "source": [
    "def to_num(digits: list[int]) -> int:\n",
    "    return sum( (10**i)*digit for i, digit in enumerate(reversed(digits)))"
   ]
  },
  {
   "cell_type": "code",
   "execution_count": 17,
   "id": "70ebe144-1860-430e-a906-a036bf2bb8fa",
   "metadata": {},
   "outputs": [
    {
     "data": {
      "text/plain": [
       "[1, 0, 0, 0]"
      ]
     },
     "execution_count": 17,
     "metadata": {},
     "output_type": "execute_result"
    }
   ],
   "source": [
    "to_digits(1000)"
   ]
  },
  {
   "cell_type": "code",
   "execution_count": 18,
   "id": "eec32e36-acaf-449f-b2bd-8b4293077f94",
   "metadata": {},
   "outputs": [
    {
     "data": {
      "text/plain": [
       "[2, 3, 4, 5]"
      ]
     },
     "execution_count": 18,
     "metadata": {},
     "output_type": "execute_result"
    }
   ],
   "source": [
    "to_digits(2345)"
   ]
  },
  {
   "cell_type": "code",
   "execution_count": 19,
   "id": "549158a9-ab64-42e9-8c9c-ffca55881b51",
   "metadata": {},
   "outputs": [
    {
     "data": {
      "text/plain": [
       "1000"
      ]
     },
     "execution_count": 19,
     "metadata": {},
     "output_type": "execute_result"
    }
   ],
   "source": [
    "to_num([1, 0, 0, 0])"
   ]
  },
  {
   "cell_type": "code",
   "execution_count": 20,
   "id": "01f87e96-7b1d-4b96-8f1d-1873a658c277",
   "metadata": {},
   "outputs": [
    {
     "data": {
      "text/plain": [
       "2345"
      ]
     },
     "execution_count": 20,
     "metadata": {},
     "output_type": "execute_result"
    }
   ],
   "source": [
    "to_num([2, 3, 4, 5])"
   ]
  },
  {
   "cell_type": "code",
   "execution_count": 28,
   "id": "a579bcff-bdd6-4813-9701-f0cab51d2efa",
   "metadata": {},
   "outputs": [],
   "source": [
    "def blink(stones):\n",
    "    for i in range(len(stones)):\n",
    "        digits = to_digits(stones[i])\n",
    "        if stones[i] == 0:\n",
    "            stones[i] = 1\n",
    "        elif len(digits) % 2 == 0:\n",
    "            mid = len(digits) // 2\n",
    "            left = to_num(digits[:mid])\n",
    "            right = to_num(digits[mid+1:])\n",
    "            stones[i] = [left, right]\n",
    "        else:\n",
    "            stones[i] = 2024 * stones[i]\n",
    "    return stones"
   ]
  },
  {
   "cell_type": "code",
   "execution_count": 29,
   "id": "b80acef4-51ec-462d-b690-b117d682c594",
   "metadata": {},
   "outputs": [
    {
     "data": {
      "text/plain": [
       "[253000, [1, 0]]"
      ]
     },
     "execution_count": 29,
     "metadata": {},
     "output_type": "execute_result"
    }
   ],
   "source": [
    "blink([125, 17])"
   ]
  },
  {
   "cell_type": "code",
   "execution_count": 30,
   "id": "ddd35134-bbce-478f-bbdf-e9f727deb74a",
   "metadata": {},
   "outputs": [
    {
     "data": {
      "text/plain": [
       "[[253, 0], 2024, 2024]"
      ]
     },
     "execution_count": 30,
     "metadata": {},
     "output_type": "execute_result"
    }
   ],
   "source": [
    "blink([253000, 1, 1])"
   ]
  },
  {
   "cell_type": "code",
   "execution_count": 32,
   "id": "a86dcbfc-010e-42ce-902b-47899d769237",
   "metadata": {},
   "outputs": [],
   "source": [
    "from functools import reduce"
   ]
  },
  {
   "cell_type": "code",
   "execution_count": 69,
   "id": "2e832c4c-3bc1-49d9-bff7-67ceba43a4a8",
   "metadata": {},
   "outputs": [],
   "source": [
    "seq = list(range(8))\n",
    "chunk_size = 3\n",
    "it = iter(seq)\n",
    "n_iters = len(seq) // chunk_size + 1"
   ]
  },
  {
   "cell_type": "code",
   "execution_count": 70,
   "id": "f3d6e81a-b66f-473c-9d4a-9094b59c2063",
   "metadata": {},
   "outputs": [],
   "source": [
    "chunks = []\n",
    "for _ in range(n_iters):\n",
    "    chunk = []\n",
    "    for _ in range(chunk_size):\n",
    "        try:\n",
    "            x = next(it)\n",
    "            chunk.append(x)\n",
    "        except StopIteration:\n",
    "            pass\n",
    "    chunks.append(chunk)"
   ]
  },
  {
   "cell_type": "code",
   "execution_count": 71,
   "id": "2081738e-896d-474d-bee9-6dbcacc93ba5",
   "metadata": {},
   "outputs": [
    {
     "data": {
      "text/plain": [
       "[[0, 1, 2], [3, 4, 5], [6, 7]]"
      ]
     },
     "execution_count": 71,
     "metadata": {},
     "output_type": "execute_result"
    }
   ],
   "source": [
    "chunks"
   ]
  },
  {
   "cell_type": "code",
   "execution_count": null,
   "id": "aae2eca1-8c4c-4da2-ac94-a0ecd45925d3",
   "metadata": {},
   "outputs": [],
   "source": []
  }
 ],
 "metadata": {
  "kernelspec": {
   "display_name": "Python 3 (ipykernel)",
   "language": "python",
   "name": "python3"
  },
  "language_info": {
   "codemirror_mode": {
    "name": "ipython",
    "version": 3
   },
   "file_extension": ".py",
   "mimetype": "text/x-python",
   "name": "python",
   "nbconvert_exporter": "python",
   "pygments_lexer": "ipython3",
   "version": "3.12.7"
  }
 },
 "nbformat": 4,
 "nbformat_minor": 5
}
