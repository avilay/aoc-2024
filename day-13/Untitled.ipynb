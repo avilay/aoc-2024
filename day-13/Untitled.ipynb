{
 "cells": [
  {
   "cell_type": "code",
   "execution_count": 1,
   "id": "8cee392e-264b-4cea-a624-6d66ee3aa88b",
   "metadata": {},
   "outputs": [],
   "source": [
    "import numpy as np"
   ]
  },
  {
   "cell_type": "markdown",
   "id": "c17ad0d2-8f18-4aac-ad48-ff5e0179b486",
   "metadata": {},
   "source": [
    "$$\n",
    "\\displaylines{\n",
    "94a + 22b = 8400 \\\\\n",
    "34a + 67b = 5400\n",
    "}\n",
    "$$"
   ]
  },
  {
   "cell_type": "markdown",
   "id": "61794272-d601-439f-ba9e-6335ec5f93d3",
   "metadata": {},
   "source": [
    "$$\n",
    "M = \\begin{bmatrix}\n",
    "94 & 22 \\\\\n",
    "34 & 67\n",
    "\\end{bmatrix}\n",
    "$$\n",
    "\n",
    "$$\n",
    "v = \\begin{bmatrix}\n",
    "a \\\\\n",
    "b\n",
    "\\end{bmatrix}\n",
    "$$\n",
    "\n",
    "$$\n",
    "p = \\begin{bmatrix}\n",
    "8400 \\\\\n",
    "5400\n",
    "\\end{bmatrix}\n",
    "$$\n",
    "\n",
    "$$\n",
    "Mv = p\n",
    "$$"
   ]
  },
  {
   "cell_type": "code",
   "execution_count": 28,
   "id": "334d1538-7acf-4936-8e0d-2d52a6b62241",
   "metadata": {},
   "outputs": [
    {
     "name": "stdout",
     "output_type": "stream",
     "text": [
      "[8400. 5400.]\n"
     ]
    },
    {
     "data": {
      "text/plain": [
       "array([80., 40.])"
      ]
     },
     "execution_count": 28,
     "metadata": {},
     "output_type": "execute_result"
    }
   ],
   "source": [
    "m = np.array([[94, 22],\n",
    "              [34, 67]])\n",
    "p = np.array([8400, 5400])\n",
    "v = np.linalg.solve(m, p)\n",
    "print(m @ v)\n",
    "v"
   ]
  },
  {
   "cell_type": "code",
   "execution_count": 29,
   "id": "b6603234-dfee-4cae-b824-38ffe4545001",
   "metadata": {},
   "outputs": [
    {
     "name": "stdout",
     "output_type": "stream",
     "text": [
      "[12748. 12176.]\n",
      "[141.40454076 135.39525284]\n"
     ]
    }
   ],
   "source": [
    "m = np.array([[26, 67],\n",
    "              [66, 21]])\n",
    "p = np.array([12748, 12176])\n",
    "v = np.linalg.solve(m, p)\n",
    "print(m @ v)\n",
    "print(v)"
   ]
  },
  {
   "cell_type": "code",
   "execution_count": 30,
   "id": "a0116c35-37b2-4d4c-93c7-08fa12830be5",
   "metadata": {},
   "outputs": [
    {
     "name": "stdout",
     "output_type": "stream",
     "text": [
      "[7870. 6450.]\n"
     ]
    },
    {
     "data": {
      "text/plain": [
       "array([38., 86.])"
      ]
     },
     "execution_count": 30,
     "metadata": {},
     "output_type": "execute_result"
    }
   ],
   "source": [
    "m = np.array([[17, 84],\n",
    "              [86, 37]])\n",
    "p = np.array([7870, 6450])\n",
    "v = np.linalg.solve(m, p)\n",
    "print(m @ v)\n",
    "v"
   ]
  },
  {
   "cell_type": "code",
   "execution_count": 33,
   "id": "de80851f-c742-4ba1-bfc9-f71eab2ebbf5",
   "metadata": {},
   "outputs": [
    {
     "name": "stdout",
     "output_type": "stream",
     "text": [
      "[18641. 10279.]\n",
      "4278.000000000002\n"
     ]
    },
    {
     "data": {
      "text/plain": [
       "array([244.50163628,  65.56989247])"
      ]
     },
     "execution_count": 33,
     "metadata": {},
     "output_type": "execute_result"
    }
   ],
   "source": [
    "m = np.array([[69, 27],\n",
    "              [23, 71]])\n",
    "p = np.array([18641, 10279])\n",
    "v = np.linalg.solve(m, p)\n",
    "print(m @ v)\n",
    "print(np.linalg.det(m))\n",
    "v"
   ]
  },
  {
   "cell_type": "code",
   "execution_count": 35,
   "id": "3d0e9ee0-9975-48da-ba43-c6b0f34100a0",
   "metadata": {},
   "outputs": [],
   "source": [
    "from collections import namedtuple"
   ]
  },
  {
   "cell_type": "code",
   "execution_count": 36,
   "id": "3688fb0c-fc4b-4739-8dfe-82a60f36b4dd",
   "metadata": {},
   "outputs": [],
   "source": [
    "Solution = namedtuple(\"Solution\", [\"button_a\", \"button_b\", \"prize\"])"
   ]
  },
  {
   "cell_type": "markdown",
   "id": "00f47cb6-f180-4376-860b-765e77d4aea7",
   "metadata": {},
   "source": [
    "Maximize $N$ and minimize $J$ subject to these constraints -\n",
    "$$\n",
    "\\displaylines{\n",
    "J = \\sum_{i=1}^N 3a_i + b_i \\\\\n",
    "\\sum_{i=1}^N a_i <= 100 \\\\\n",
    "\\sum_{i=1}^N b_i <= 100 \\\\\n",
    "}\n",
    "$$\n",
    "\n",
    "All $a_i$ and $b_i$ are known. The only unknown is $N$ and therefore $J$."
   ]
  },
  {
   "cell_type": "markdown",
   "id": "de382766-99d2-4613-9fb2-3e9375808cde",
   "metadata": {},
   "source": [
    "$$\n",
    "\\begin{align}\n",
    "J &= 3 \\sum_{i=1}^N a_i + \\sum_{i=1}^N + b_i \\\\\n",
    "&<= 3 \\times 100 + 100 \\\\\n",
    "&<= 400\n",
    "\\end{align}\n",
    "$$"
   ]
  },
  {
   "cell_type": "code",
   "execution_count": 37,
   "id": "96abef4c-07c0-43e3-bba0-976c037ffc81",
   "metadata": {},
   "outputs": [],
   "source": [
    "test_input = \"\"\"\n",
    "Button A: X+94, Y+34\n",
    "Button B: X+22, Y+67\n",
    "Prize: X=8400, Y=5400\n",
    "\n",
    "Button A: X+26, Y+66\n",
    "Button B: X+67, Y+21\n",
    "Prize: X=12748, Y=12176\n",
    "\n",
    "Button A: X+17, Y+86\n",
    "Button B: X+84, Y+37\n",
    "Prize: X=7870, Y=6450\n",
    "\n",
    "Button A: X+69, Y+23\n",
    "Button B: X+27, Y+71\n",
    "Prize: X=18641, Y=10279\n",
    "\"\"\""
   ]
  },
  {
   "cell_type": "code",
   "execution_count": null,
   "id": "0950ce42-c336-4c4f-ac0e-eb69e017e136",
   "metadata": {},
   "outputs": [],
   "source": [
    "Prize = namedtuple(\"Prize\", "
   ]
  }
 ],
 "metadata": {
  "kernelspec": {
   "display_name": "Python 3 (ipykernel)",
   "language": "python",
   "name": "python3"
  },
  "language_info": {
   "codemirror_mode": {
    "name": "ipython",
    "version": 3
   },
   "file_extension": ".py",
   "mimetype": "text/x-python",
   "name": "python",
   "nbconvert_exporter": "python",
   "pygments_lexer": "ipython3",
   "version": "3.12.7"
  }
 },
 "nbformat": 4,
 "nbformat_minor": 5
}
