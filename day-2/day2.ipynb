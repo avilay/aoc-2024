{
 "cells": [
  {
   "metadata": {},
   "cell_type": "markdown",
   "source": [
    "## Part One\n",
    "Number of safe reports"
   ],
   "id": "22b78f440fea4ca3"
  },
  {
   "cell_type": "code",
   "id": "initial_id",
   "metadata": {
    "ExecuteTime": {
     "end_time": "2024-12-02T11:24:38.935183Z",
     "start_time": "2024-12-02T11:24:38.933104Z"
    }
   },
   "source": [
    "tp = [7, 6, 4, 2, 1]"
   ],
   "outputs": [],
   "execution_count": 1
  },
  {
   "cell_type": "code",
   "id": "816042b3a9e5fd86",
   "metadata": {
    "ExecuteTime": {
     "end_time": "2024-12-02T11:24:39.264233Z",
     "start_time": "2024-12-02T11:24:39.259466Z"
    }
   },
   "source": [
    "list(zip(tp[:-1], tp[1:]))"
   ],
   "outputs": [
    {
     "data": {
      "text/plain": [
       "[(7, 6), (6, 4), (4, 2), (2, 1)]"
      ]
     },
     "execution_count": 2,
     "metadata": {},
     "output_type": "execute_result"
    }
   ],
   "execution_count": 2
  },
  {
   "cell_type": "code",
   "id": "fd5fab3b-9e39-4cdf-a9ff-0f7a0e1f77d4",
   "metadata": {
    "ExecuteTime": {
     "end_time": "2024-12-02T11:24:39.523468Z",
     "start_time": "2024-12-02T11:24:39.520385Z"
    }
   },
   "source": [
    "d = [l1-l2 for l1, l2 in zip(tp[:-1], tp[1:])]\n",
    "d"
   ],
   "outputs": [
    {
     "data": {
      "text/plain": [
       "[1, 2, 2, 1]"
      ]
     },
     "execution_count": 3,
     "metadata": {},
     "output_type": "execute_result"
    }
   ],
   "execution_count": 3
  },
  {
   "cell_type": "code",
   "id": "8078f87f-d58f-4705-8480-beaa401f7cd1",
   "metadata": {
    "ExecuteTime": {
     "end_time": "2024-12-02T11:24:39.778746Z",
     "start_time": "2024-12-02T11:24:39.774518Z"
    }
   },
   "source": [
    "all(map(lambda x: 1 <= x <= 3, d))"
   ],
   "outputs": [
    {
     "data": {
      "text/plain": [
       "True"
      ]
     },
     "execution_count": 4,
     "metadata": {},
     "output_type": "execute_result"
    }
   ],
   "execution_count": 4
  },
  {
   "metadata": {
    "ExecuteTime": {
     "end_time": "2024-12-02T11:24:40.023789Z",
     "start_time": "2024-12-02T11:24:40.020410Z"
    }
   },
   "cell_type": "code",
   "source": "any([True, True, False])",
   "id": "3441ea611beb7392",
   "outputs": [
    {
     "data": {
      "text/plain": [
       "True"
      ]
     },
     "execution_count": 5,
     "metadata": {},
     "output_type": "execute_result"
    }
   ],
   "execution_count": 5
  },
  {
   "cell_type": "code",
   "id": "0d56685a-16a2-48e2-9ba5-15d100ff4be5",
   "metadata": {
    "ExecuteTime": {
     "end_time": "2024-12-02T11:24:40.319765Z",
     "start_time": "2024-12-02T11:24:40.316960Z"
    }
   },
   "source": [
    "def is_safe(levels):\n",
    "    diffs = [l2 - l1 for l1, l2 in zip(levels[:-1], levels[1:])]\n",
    "    inc = map(lambda d: 1 <= d <= 3, diffs)\n",
    "    dec = map(lambda d: 1 <= -d <= 3, diffs)\n",
    "    return any((all(inc), all(dec)))"
   ],
   "outputs": [],
   "execution_count": 6
  },
  {
   "metadata": {
    "ExecuteTime": {
     "end_time": "2024-12-02T11:24:40.614772Z",
     "start_time": "2024-12-02T11:24:40.611053Z"
    }
   },
   "cell_type": "code",
   "source": [
    "test_lines = [\n",
    "    \"7 6 4 2 1\",\n",
    "    \"1 2 7 8 9\",\n",
    "    \"9 7 6 2 1\",\n",
    "    \"1 3 2 4 5\",\n",
    "    \"8 6 4 4 1\",\n",
    "    \"1 3 6 7 9\"\n",
    "]\n",
    "\n",
    "for line in test_lines:\n",
    "    print(line, is_safe([int(l) for l in line.split()]))"
   ],
   "id": "5e0bdfc6186ed095",
   "outputs": [
    {
     "name": "stdout",
     "output_type": "stream",
     "text": [
      "7 6 4 2 1 True\n",
      "1 2 7 8 9 False\n",
      "9 7 6 2 1 False\n",
      "1 3 2 4 5 False\n",
      "8 6 4 4 1 False\n",
      "1 3 6 7 9 True\n"
     ]
    }
   ],
   "execution_count": 7
  },
  {
   "metadata": {
    "ExecuteTime": {
     "end_time": "2024-12-02T11:24:41.266681Z",
     "start_time": "2024-12-02T11:24:41.261797Z"
    }
   },
   "cell_type": "code",
   "source": [
    "def parse_report(line):\n",
    "    return [int(l) for l in line.split()]\n",
    "\n",
    "sum(is_safe(parse_report(line)) for line in test_lines)"
   ],
   "id": "859287ef0e2aeca4",
   "outputs": [
    {
     "data": {
      "text/plain": [
       "2"
      ]
     },
     "execution_count": 8,
     "metadata": {},
     "output_type": "execute_result"
    }
   ],
   "execution_count": 8
  },
  {
   "metadata": {
    "ExecuteTime": {
     "end_time": "2024-12-02T11:24:41.562178Z",
     "start_time": "2024-12-02T11:24:41.556092Z"
    }
   },
   "cell_type": "code",
   "source": [
    "with open(\"input.txt\") as f:\n",
    "    num_safe = sum(is_safe(parse_report(line)) for line in f)"
   ],
   "id": "b39965628b801f8f",
   "outputs": [],
   "execution_count": 9
  },
  {
   "metadata": {
    "ExecuteTime": {
     "end_time": "2024-12-02T11:24:41.881194Z",
     "start_time": "2024-12-02T11:24:41.877082Z"
    }
   },
   "cell_type": "code",
   "source": "num_safe",
   "id": "d42169c3e79ba0c",
   "outputs": [
    {
     "data": {
      "text/plain": [
       "213"
      ]
     },
     "execution_count": 10,
     "metadata": {},
     "output_type": "execute_result"
    }
   ],
   "execution_count": 10
  },
  {
   "metadata": {},
   "cell_type": "markdown",
   "source": [
    "## Part Two\n",
    "With Dampener"
   ],
   "id": "b453aecbe7599dac"
  },
  {
   "metadata": {
    "ExecuteTime": {
     "end_time": "2024-12-02T11:27:02.231603Z",
     "start_time": "2024-12-02T11:27:02.228144Z"
    }
   },
   "cell_type": "code",
   "source": [
    "def is_safe_with_dampener(levels):\n",
    "    if is_safe(levels): return True\n",
    "    for i in range(len(levels)):\n",
    "        if is_safe(levels[:i] + levels[i+1:]):\n",
    "            return True\n",
    "    return False"
   ],
   "id": "1fde669b4318ec16",
   "outputs": [],
   "execution_count": 22
  },
  {
   "metadata": {
    "ExecuteTime": {
     "end_time": "2024-12-02T11:27:03.483535Z",
     "start_time": "2024-12-02T11:27:03.479785Z"
    }
   },
   "cell_type": "code",
   "source": [
    "all_levels = [parse_report(line) for line in test_lines]\n",
    "all_levels"
   ],
   "id": "15ca861fa9656058",
   "outputs": [
    {
     "data": {
      "text/plain": [
       "[[7, 6, 4, 2, 1],\n",
       " [1, 2, 7, 8, 9],\n",
       " [9, 7, 6, 2, 1],\n",
       " [1, 3, 2, 4, 5],\n",
       " [8, 6, 4, 4, 1],\n",
       " [1, 3, 6, 7, 9]]"
      ]
     },
     "execution_count": 23,
     "metadata": {},
     "output_type": "execute_result"
    }
   ],
   "execution_count": 23
  },
  {
   "metadata": {
    "ExecuteTime": {
     "end_time": "2024-12-02T11:27:03.986784Z",
     "start_time": "2024-12-02T11:27:03.983360Z"
    }
   },
   "cell_type": "code",
   "source": [
    "all_levels.append([75, 77, 72, 70, 69])\n",
    "all_levels.append([28, 28, 27, 26, 23])\n",
    "all_levels.append([20, 16, 14, 12, 10, 8, 7, 6])\n",
    "all_levels.append([70, 71, 73, 74, 75, 78, 79, 83])"
   ],
   "id": "85306c8a665d6f1e",
   "outputs": [],
   "execution_count": 24
  },
  {
   "metadata": {
    "ExecuteTime": {
     "end_time": "2024-12-02T11:27:04.397429Z",
     "start_time": "2024-12-02T11:27:04.393994Z"
    }
   },
   "cell_type": "code",
   "source": [
    "for _levels in all_levels:\n",
    "    print(_levels, is_safe_with_dampener(_levels))"
   ],
   "id": "c8448b9302c6eb89",
   "outputs": [
    {
     "name": "stdout",
     "output_type": "stream",
     "text": [
      "[7, 6, 4, 2, 1] True\n",
      "[1, 2, 7, 8, 9] False\n",
      "[9, 7, 6, 2, 1] False\n",
      "[1, 3, 2, 4, 5] True\n",
      "[8, 6, 4, 4, 1] True\n",
      "[1, 3, 6, 7, 9] True\n",
      "[75, 77, 72, 70, 69] True\n",
      "[28, 28, 27, 26, 23] True\n",
      "[20, 16, 14, 12, 10, 8, 7, 6] True\n",
      "[70, 71, 73, 74, 75, 78, 79, 83] True\n"
     ]
    }
   ],
   "execution_count": 25
  },
  {
   "metadata": {
    "ExecuteTime": {
     "end_time": "2024-12-02T11:27:05.006012Z",
     "start_time": "2024-12-02T11:27:04.994434Z"
    }
   },
   "cell_type": "code",
   "source": [
    "with open(\"input.txt\") as f:\n",
    "    num_safe = sum(is_safe_with_dampener(parse_report(line)) for line in f)\n",
    "num_safe"
   ],
   "id": "657fdc7250574140",
   "outputs": [
    {
     "data": {
      "text/plain": [
       "285"
      ]
     },
     "execution_count": 26,
     "metadata": {},
     "output_type": "execute_result"
    }
   ],
   "execution_count": 26
  },
  {
   "metadata": {},
   "cell_type": "code",
   "source": "",
   "id": "b9607c4de6804dfd",
   "outputs": [],
   "execution_count": null
  }
 ],
 "metadata": {
  "kernelspec": {
   "display_name": "Python 3 (ipykernel)",
   "language": "python",
   "name": "python3"
  },
  "language_info": {
   "codemirror_mode": {
    "name": "ipython",
    "version": 3
   },
   "file_extension": ".py",
   "mimetype": "text/x-python",
   "name": "python",
   "nbconvert_exporter": "python",
   "pygments_lexer": "ipython3",
   "version": "3.12.2"
  }
 },
 "nbformat": 4,
 "nbformat_minor": 5
}
