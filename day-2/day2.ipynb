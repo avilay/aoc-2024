{
 "cells": [
  {
   "metadata": {},
   "cell_type": "markdown",
   "source": [
    "## Part One\n",
    "Number of safe reports"
   ],
   "id": "22b78f440fea4ca3"
  },
  {
   "cell_type": "code",
   "id": "initial_id",
   "metadata": {
    "ExecuteTime": {
     "end_time": "2024-12-02T23:48:13.525775Z",
     "start_time": "2024-12-02T23:48:13.520306Z"
    }
   },
   "source": [
    "tp = [7, 6, 4, 2, 1]"
   ],
   "outputs": [],
   "execution_count": 1
  },
  {
   "cell_type": "code",
   "id": "816042b3a9e5fd86",
   "metadata": {
    "ExecuteTime": {
     "end_time": "2024-12-02T23:48:14.040644Z",
     "start_time": "2024-12-02T23:48:14.032173Z"
    }
   },
   "source": [
    "list(zip(tp[:-1], tp[1:]))"
   ],
   "outputs": [
    {
     "data": {
      "text/plain": [
       "[(7, 6), (6, 4), (4, 2), (2, 1)]"
      ]
     },
     "execution_count": 2,
     "metadata": {},
     "output_type": "execute_result"
    }
   ],
   "execution_count": 2
  },
  {
   "cell_type": "code",
   "id": "fd5fab3b-9e39-4cdf-a9ff-0f7a0e1f77d4",
   "metadata": {
    "ExecuteTime": {
     "end_time": "2024-12-02T23:48:14.561916Z",
     "start_time": "2024-12-02T23:48:14.554604Z"
    }
   },
   "source": [
    "d = [l1-l2 for l1, l2 in zip(tp[:-1], tp[1:])]\n",
    "d"
   ],
   "outputs": [
    {
     "data": {
      "text/plain": [
       "[1, 2, 2, 1]"
      ]
     },
     "execution_count": 3,
     "metadata": {},
     "output_type": "execute_result"
    }
   ],
   "execution_count": 3
  },
  {
   "cell_type": "code",
   "id": "8078f87f-d58f-4705-8480-beaa401f7cd1",
   "metadata": {
    "ExecuteTime": {
     "end_time": "2024-12-02T23:48:15.038343Z",
     "start_time": "2024-12-02T23:48:15.030600Z"
    }
   },
   "source": [
    "all(map(lambda x: 1 <= x <= 3, d))"
   ],
   "outputs": [
    {
     "data": {
      "text/plain": [
       "True"
      ]
     },
     "execution_count": 4,
     "metadata": {},
     "output_type": "execute_result"
    }
   ],
   "execution_count": 4
  },
  {
   "metadata": {
    "ExecuteTime": {
     "end_time": "2024-12-02T23:48:15.520069Z",
     "start_time": "2024-12-02T23:48:15.514955Z"
    }
   },
   "cell_type": "code",
   "source": "any([True, True, False])",
   "id": "3441ea611beb7392",
   "outputs": [
    {
     "data": {
      "text/plain": [
       "True"
      ]
     },
     "execution_count": 5,
     "metadata": {},
     "output_type": "execute_result"
    }
   ],
   "execution_count": 5
  },
  {
   "cell_type": "code",
   "id": "0d56685a-16a2-48e2-9ba5-15d100ff4be5",
   "metadata": {
    "ExecuteTime": {
     "end_time": "2024-12-02T23:48:16.049216Z",
     "start_time": "2024-12-02T23:48:16.043605Z"
    }
   },
   "source": [
    "def is_safe(levels):\n",
    "    diffs = [l2 - l1 for l1, l2 in zip(levels[:-1], levels[1:])]\n",
    "    inc = map(lambda d: 1 <= d <= 3, diffs)\n",
    "    dec = map(lambda d: 1 <= -d <= 3, diffs)\n",
    "    return any((all(inc), all(dec)))"
   ],
   "outputs": [],
   "execution_count": 6
  },
  {
   "metadata": {
    "ExecuteTime": {
     "end_time": "2024-12-02T23:48:16.765634Z",
     "start_time": "2024-12-02T23:48:16.759345Z"
    }
   },
   "cell_type": "code",
   "source": [
    "test_lines = [\n",
    "    \"7 6 4 2 1\",\n",
    "    \"1 2 7 8 9\",\n",
    "    \"9 7 6 2 1\",\n",
    "    \"1 3 2 4 5\",\n",
    "    \"8 6 4 4 1\",\n",
    "    \"1 3 6 7 9\"\n",
    "]\n",
    "\n",
    "for line in test_lines:\n",
    "    print(line, is_safe([int(l) for l in line.split()]))"
   ],
   "id": "5e0bdfc6186ed095",
   "outputs": [
    {
     "name": "stdout",
     "output_type": "stream",
     "text": [
      "7 6 4 2 1 True\n",
      "1 2 7 8 9 False\n",
      "9 7 6 2 1 False\n",
      "1 3 2 4 5 False\n",
      "8 6 4 4 1 False\n",
      "1 3 6 7 9 True\n"
     ]
    }
   ],
   "execution_count": 7
  },
  {
   "metadata": {
    "ExecuteTime": {
     "end_time": "2024-12-02T23:48:18.430989Z",
     "start_time": "2024-12-02T23:48:18.423448Z"
    }
   },
   "cell_type": "code",
   "source": [
    "def parse_report(line):\n",
    "    return [int(l) for l in line.split()]\n",
    "\n",
    "sum(is_safe(parse_report(line)) for line in test_lines)"
   ],
   "id": "859287ef0e2aeca4",
   "outputs": [
    {
     "data": {
      "text/plain": [
       "2"
      ]
     },
     "execution_count": 8,
     "metadata": {},
     "output_type": "execute_result"
    }
   ],
   "execution_count": 8
  },
  {
   "metadata": {
    "ExecuteTime": {
     "end_time": "2024-12-02T23:48:19.267364Z",
     "start_time": "2024-12-02T23:48:19.258183Z"
    }
   },
   "cell_type": "code",
   "source": [
    "with open(\"input.txt\") as f:\n",
    "    num_safe = sum(is_safe(parse_report(line)) for line in f)"
   ],
   "id": "b39965628b801f8f",
   "outputs": [],
   "execution_count": 9
  },
  {
   "metadata": {
    "ExecuteTime": {
     "end_time": "2024-12-02T23:48:19.906735Z",
     "start_time": "2024-12-02T23:48:19.901108Z"
    }
   },
   "cell_type": "code",
   "source": "num_safe",
   "id": "d42169c3e79ba0c",
   "outputs": [
    {
     "data": {
      "text/plain": [
       "213"
      ]
     },
     "execution_count": 10,
     "metadata": {},
     "output_type": "execute_result"
    }
   ],
   "execution_count": 10
  },
  {
   "metadata": {},
   "cell_type": "markdown",
   "source": [
    "## Part Two\n",
    "With Dampener"
   ],
   "id": "b453aecbe7599dac"
  },
  {
   "metadata": {
    "ExecuteTime": {
     "end_time": "2024-12-02T23:48:22.454107Z",
     "start_time": "2024-12-02T23:48:22.449734Z"
    }
   },
   "cell_type": "code",
   "source": [
    "def is_safe_with_damp(levels):\n",
    "    if is_safe(levels): return True\n",
    "    for i in range(len(levels)):\n",
    "        if is_safe(levels[:i] + levels[i+1:]):\n",
    "            return True\n",
    "    return False"
   ],
   "id": "1fde669b4318ec16",
   "outputs": [],
   "execution_count": 11
  },
  {
   "metadata": {
    "ExecuteTime": {
     "end_time": "2024-12-02T23:48:24.085639Z",
     "start_time": "2024-12-02T23:48:24.078408Z"
    }
   },
   "cell_type": "code",
   "source": [
    "all_levels = [parse_report(line) for line in test_lines]\n",
    "all_levels"
   ],
   "id": "15ca861fa9656058",
   "outputs": [
    {
     "data": {
      "text/plain": [
       "[[7, 6, 4, 2, 1],\n",
       " [1, 2, 7, 8, 9],\n",
       " [9, 7, 6, 2, 1],\n",
       " [1, 3, 2, 4, 5],\n",
       " [8, 6, 4, 4, 1],\n",
       " [1, 3, 6, 7, 9]]"
      ]
     },
     "execution_count": 12,
     "metadata": {},
     "output_type": "execute_result"
    }
   ],
   "execution_count": 12
  },
  {
   "metadata": {
    "ExecuteTime": {
     "end_time": "2024-12-02T23:48:31.063647Z",
     "start_time": "2024-12-02T23:48:31.059230Z"
    }
   },
   "cell_type": "code",
   "source": [
    "for levels in all_levels:\n",
    "    print(f\"{levels} - {is_safe_with_damp(levels)}\")"
   ],
   "id": "9bb9c23ea92bdc27",
   "outputs": [
    {
     "name": "stdout",
     "output_type": "stream",
     "text": [
      "[7, 6, 4, 2, 1] - True\n",
      "[1, 2, 7, 8, 9] - False\n",
      "[9, 7, 6, 2, 1] - False\n",
      "[1, 3, 2, 4, 5] - True\n",
      "[8, 6, 4, 4, 1] - True\n",
      "[1, 3, 6, 7, 9] - True\n"
     ]
    }
   ],
   "execution_count": 13
  },
  {
   "metadata": {
    "ExecuteTime": {
     "end_time": "2024-12-02T23:48:34.486520Z",
     "start_time": "2024-12-02T23:48:34.465342Z"
    }
   },
   "cell_type": "code",
   "source": [
    "with open(\"input.txt\") as f:\n",
    "    num_safe = sum(is_safe_with_damp(parse_report(line)) for line in f)\n",
    "num_safe"
   ],
   "id": "657fdc7250574140",
   "outputs": [
    {
     "data": {
      "text/plain": [
       "285"
      ]
     },
     "execution_count": 14,
     "metadata": {},
     "output_type": "execute_result"
    }
   ],
   "execution_count": 14
  },
  {
   "metadata": {},
   "cell_type": "markdown",
   "source": "### Searching for a more optimal solution",
   "id": "2fe8e6b1b9968344"
  },
  {
   "metadata": {
    "ExecuteTime": {
     "end_time": "2024-12-02T23:48:41.047525Z",
     "start_time": "2024-12-02T23:48:37.301415Z"
    }
   },
   "cell_type": "code",
   "source": "%reset",
   "id": "f0966d42d87ead2e",
   "outputs": [],
   "execution_count": 15
  },
  {
   "metadata": {
    "ExecuteTime": {
     "end_time": "2024-12-02T23:48:46.456574Z",
     "start_time": "2024-12-02T23:48:46.449651Z"
    }
   },
   "cell_type": "code",
   "source": [
    "test_levels = [\n",
    "    ([7, 6, 4, 2, 1], \"safe without removals\"),\n",
    "    ([1, 2, 7, 8, 9],  \"unsafe\"),\n",
    "    ([9, 7, 6, 2, 1],  \"unsafe\"),\n",
    "    ([1, 3, 2, 4, 5],  \"safe after removing 2nd element 3\"),\n",
    "    ([8, 6, 4, 4, 1],  \"safe after removing 3rd element 4\"),\n",
    "    ([1, 3, 6, 7, 9],  \"safe without removals\"),\n",
    "    ([75, 77, 72, 70, 69],  \"safe after removing 2nd element 77\"),\n",
    "    ([28, 28, 27, 26, 23],  \"safe after removing 1st element 28\"),\n",
    "    ([20, 16, 14, 12, 10, 8, 7, 6],  \"safe after removing 1st element 20\"),\n",
    "    ([70, 71, 73, 74, 75, 78, 79, 83], \"safe after removing last element 83\"),\n",
    "    ([59, 56, 53, 50, 47, 47, 44, 41],  \"safe after removing 5th/6th element 47\")\n",
    "]"
   ],
   "id": "57928d2a222055d6",
   "outputs": [],
   "execution_count": 16
  },
  {
   "metadata": {
    "ExecuteTime": {
     "end_time": "2024-12-02T23:48:51.564852Z",
     "start_time": "2024-12-02T23:48:51.559004Z"
    }
   },
   "cell_type": "code",
   "source": [
    "for levels, notes in test_levels:\n",
    "    diffs = [l2 - l1 for l1, l2 in zip(levels[:-1], levels[1:])]\n",
    "    print(levels, \" \", diffs, \" \", notes)"
   ],
   "id": "76e14b92a9dee672",
   "outputs": [
    {
     "name": "stdout",
     "output_type": "stream",
     "text": [
      "[7, 6, 4, 2, 1]   [-1, -2, -2, -1]   safe without removals\n",
      "[1, 2, 7, 8, 9]   [1, 5, 1, 1]   unsafe\n",
      "[9, 7, 6, 2, 1]   [-2, -1, -4, -1]   unsafe\n",
      "[1, 3, 2, 4, 5]   [2, -1, 2, 1]   safe after removing 2nd element 3\n",
      "[8, 6, 4, 4, 1]   [-2, -2, 0, -3]   safe after removing 3rd element 4\n",
      "[1, 3, 6, 7, 9]   [2, 3, 1, 2]   safe without removals\n",
      "[75, 77, 72, 70, 69]   [2, -5, -2, -1]   safe after removing 2nd element 77\n",
      "[28, 28, 27, 26, 23]   [0, -1, -1, -3]   safe after removing 1st element 28\n",
      "[20, 16, 14, 12, 10, 8, 7, 6]   [-4, -2, -2, -2, -2, -1, -1]   safe after removing 1st element 20\n",
      "[70, 71, 73, 74, 75, 78, 79, 83]   [1, 2, 1, 1, 3, 1, 4]   safe after removing last element 83\n",
      "[59, 56, 53, 50, 47, 47, 44, 41]   [-3, -3, -3, -3, 0, -3, -3]   safe after removing 5th/6th element 47\n"
     ]
    }
   ],
   "execution_count": 17
  },
  {
   "metadata": {},
   "cell_type": "markdown",
   "source": [
    "Logic -\n",
    "* If there is a single diff element with a different sign, then the element at the same index or the one after are candidates for removal.\n",
    "* If there is a zero diff element, same logic as above.\n",
    "* If all diffs are of the same sign, then the choose the absolute max and then same logic as above."
   ],
   "id": "9acf22434792d598"
  },
  {
   "metadata": {
    "ExecuteTime": {
     "end_time": "2024-12-02T23:49:22.998842Z",
     "start_time": "2024-12-02T23:49:22.994669Z"
    }
   },
   "cell_type": "code",
   "source": "tp = [2, -1, 2, 1]\n",
   "id": "d91018b9274c284c",
   "outputs": [],
   "execution_count": 18
  },
  {
   "metadata": {
    "ExecuteTime": {
     "end_time": "2024-12-02T23:49:23.611693Z",
     "start_time": "2024-12-02T23:49:23.605754Z"
    }
   },
   "cell_type": "code",
   "source": [
    "positives = list(map(lambda x: x > 0, tp))\n",
    "num_positives = sum(positives)\n",
    "print(positives, num_positives)"
   ],
   "id": "7156fc4538814ad",
   "outputs": [
    {
     "name": "stdout",
     "output_type": "stream",
     "text": [
      "[True, False, True, True] 3\n"
     ]
    }
   ],
   "execution_count": 19
  },
  {
   "metadata": {
    "ExecuteTime": {
     "end_time": "2024-12-02T23:49:24.613078Z",
     "start_time": "2024-12-02T23:49:24.607985Z"
    }
   },
   "cell_type": "code",
   "source": [
    "negatives = list(map(lambda x: x < 0, tp))\n",
    "num_negatives = sum(negatives)\n",
    "print(negatives, num_negatives)"
   ],
   "id": "810b60a2a9a5a16d",
   "outputs": [
    {
     "name": "stdout",
     "output_type": "stream",
     "text": [
      "[False, True, False, False] 1\n"
     ]
    }
   ],
   "execution_count": 20
  },
  {
   "metadata": {
    "ExecuteTime": {
     "end_time": "2024-12-02T23:49:26.303697Z",
     "start_time": "2024-12-02T23:49:26.298294Z"
    }
   },
   "cell_type": "code",
   "source": [
    "zeros = list(map(lambda x: x == 0, tp))\n",
    "num_zeros = sum(zeros)\n",
    "print(zeros, num_zeros)"
   ],
   "id": "40835a4d1109a42a",
   "outputs": [
    {
     "name": "stdout",
     "output_type": "stream",
     "text": [
      "[False, False, False, False] 0\n"
     ]
    }
   ],
   "execution_count": 21
  },
  {
   "metadata": {
    "ExecuteTime": {
     "end_time": "2024-12-02T23:49:31.000131Z",
     "start_time": "2024-12-02T23:49:27.732305Z"
    }
   },
   "cell_type": "code",
   "source": "%reset",
   "id": "de2ec5ed828a798e",
   "outputs": [],
   "execution_count": 22
  },
  {
   "metadata": {
    "ExecuteTime": {
     "end_time": "2024-12-02T23:49:35.884122Z",
     "start_time": "2024-12-02T23:49:35.875360Z"
    }
   },
   "cell_type": "code",
   "source": [
    "def removal_candidates(diffs):\n",
    "    positives = list(map(lambda x: x > 0, diffs))\n",
    "    num_positives = sum(positives)\n",
    "\n",
    "    negatives = list(map(lambda x: x < 0, diffs))\n",
    "    num_negatives = sum(negatives)\n",
    "\n",
    "    zeros = list(map(lambda x: x == 0, diffs))\n",
    "    num_zeros = sum(zeros)\n",
    "\n",
    "    if num_positives > num_negatives and num_negatives == 1:\n",
    "        neg_idx = positives.index(False)\n",
    "        return neg_idx, neg_idx + 1\n",
    "\n",
    "    if num_negatives > num_positives and num_positives == 1:\n",
    "        pos_idx = negatives.index(False)\n",
    "        return pos_idx, pos_idx + 1\n",
    "\n",
    "    if num_zeros == 1:\n",
    "        zero_idx = zeros.index(True)\n",
    "        return zero_idx, zero_idx + 1\n",
    "\n",
    "    if num_positives == len(positives) or num_negatives == len(negatives):\n",
    "        abs_diffs = [abs(diff) for diff in diffs]\n",
    "        max_abs_diff = max(abs_diffs)\n",
    "        idx = abs_diffs.index(max_abs_diff)\n",
    "        return idx, idx + 1\n",
    "\n",
    "    return None\n",
    "\n",
    "def is_safe_with_damp_optim(levels):\n",
    "    def is_safe(ds):\n",
    "        inc = map(lambda d: 1 <= d <= 3, ds)\n",
    "        dec = map(lambda d: 1 <= -d <= 3, ds)\n",
    "        return any((all(inc), all(dec)))\n",
    "\n",
    "    diffs = [l2 - l1 for l1, l2 in zip(levels[:-1], levels[1:])]\n",
    "    if is_safe(diffs): return True\n",
    "    idxs = removal_candidates(diffs)\n",
    "    if idxs:\n",
    "        for idx in idxs:\n",
    "            new_levels = levels[:idx] + levels[idx+1:]\n",
    "            new_diffs = [l2 - l1 for l1, l2 in zip(new_levels[:-1], new_levels[1:])]\n",
    "            if is_safe(new_diffs): return True\n",
    "    return False"
   ],
   "id": "9b07060755e71ef3",
   "outputs": [],
   "execution_count": 23
  },
  {
   "metadata": {
    "ExecuteTime": {
     "end_time": "2024-12-02T23:49:38.133718Z",
     "start_time": "2024-12-02T23:49:38.130061Z"
    }
   },
   "cell_type": "code",
   "source": [
    "def parse_report(line):\n",
    "    return [int(l) for l in line.split()]"
   ],
   "id": "bf8dafde13eed160",
   "outputs": [],
   "execution_count": 24
  },
  {
   "metadata": {
    "ExecuteTime": {
     "end_time": "2024-12-02T23:49:39.283681Z",
     "start_time": "2024-12-02T23:49:39.268778Z"
    }
   },
   "cell_type": "code",
   "source": [
    "with open(\"input.txt\") as f:\n",
    "    num_safe = sum(is_safe_with_damp_optim(parse_report(line)) for line in f)\n",
    "    # for line in f:\n",
    "    #     levels = parse_report(line)\n",
    "    #     if not is_safe_with_damp_optim(levels) and is_safe_with_damp(levels):\n",
    "    #         print(f\"found misclassified - {levels}\")"
   ],
   "id": "e937dd27a54ad092",
   "outputs": [],
   "execution_count": 25
  },
  {
   "metadata": {
    "ExecuteTime": {
     "end_time": "2024-12-02T23:49:40.472678Z",
     "start_time": "2024-12-02T23:49:40.467784Z"
    }
   },
   "cell_type": "code",
   "source": "num_safe",
   "id": "7944ddf96826af69",
   "outputs": [
    {
     "data": {
      "text/plain": [
       "285"
      ]
     },
     "execution_count": 26,
     "metadata": {},
     "output_type": "execute_result"
    }
   ],
   "execution_count": 26
  },
  {
   "metadata": {
    "ExecuteTime": {
     "end_time": "2024-12-02T23:49:41.801990Z",
     "start_time": "2024-12-02T23:49:41.794888Z"
    }
   },
   "cell_type": "code",
   "source": [
    "def dbg(levels):\n",
    "    diffs = [l2 - l1 for l1, l2 in zip(levels[:-1], levels[1:])]\n",
    "\n",
    "    positives = list(map(lambda x: x > 0, diffs))\n",
    "    num_positives = sum(positives)\n",
    "\n",
    "    negatives = list(map(lambda x: x < 0, diffs))\n",
    "    num_negatives = sum(negatives)\n",
    "\n",
    "    zeros = list(map(lambda x: x == 0, diffs))\n",
    "    num_zeros = sum(zeros)\n",
    "\n",
    "    print(f\"diffs: {diffs}\")\n",
    "    print(f\"positives: {positives}, num_positives: {num_positives}\")\n",
    "    print(f\"negatives: {negatives}, num_negatives: {num_negatives}\")\n",
    "    print(f\"zeros: {zeros}, num_zeros: {num_zeros}\")\n",
    "\n",
    "    for i in range(len(levels)):\n",
    "        new_levels = levels[:i] + levels[i+1:]\n",
    "        if is_safe(new_levels):\n",
    "            print(f\"Removing [{i}]: {levels[i]} makes this safe.\")\n"
   ],
   "id": "9a3ade072b99f4c0",
   "outputs": [],
   "execution_count": 27
  },
  {
   "metadata": {},
   "cell_type": "code",
   "source": "",
   "id": "e097eb43c9062d63",
   "outputs": [],
   "execution_count": null
  }
 ],
 "metadata": {
  "kernelspec": {
   "display_name": "Python 3 (ipykernel)",
   "language": "python",
   "name": "python3"
  },
  "language_info": {
   "codemirror_mode": {
    "name": "ipython",
    "version": 3
   },
   "file_extension": ".py",
   "mimetype": "text/x-python",
   "name": "python",
   "nbconvert_exporter": "python",
   "pygments_lexer": "ipython3",
   "version": "3.12.2"
  }
 },
 "nbformat": 4,
 "nbformat_minor": 5
}
