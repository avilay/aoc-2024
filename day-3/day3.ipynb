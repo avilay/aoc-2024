{
 "cells": [
  {
   "cell_type": "code",
   "id": "initial_id",
   "metadata": {
    "collapsed": true,
    "ExecuteTime": {
     "end_time": "2024-12-03T05:40:44.544281Z",
     "start_time": "2024-12-03T05:40:44.541360Z"
    }
   },
   "source": "import re",
   "outputs": [],
   "execution_count": 1
  },
  {
   "metadata": {
    "ExecuteTime": {
     "end_time": "2024-12-03T05:41:22.052686Z",
     "start_time": "2024-12-03T05:41:22.049002Z"
    }
   },
   "cell_type": "code",
   "source": "test_line = \"xmul(2,4)%&mul[3,7]!@^do_not_mul(5,5)+mul(32,64]then(mul(11,8)mul(8,5))\"",
   "id": "51e46e5cd1f0db71",
   "outputs": [],
   "execution_count": 2
  },
  {
   "metadata": {
    "ExecuteTime": {
     "end_time": "2024-12-03T05:43:08.218329Z",
     "start_time": "2024-12-03T05:43:08.213792Z"
    }
   },
   "cell_type": "code",
   "source": "pattern = re.compile(r\"mul\\((\\d{1,3})\\,(\\d{1,3})\\)\")",
   "id": "e74bb59581e2b4a2",
   "outputs": [],
   "execution_count": 4
  },
  {
   "metadata": {
    "ExecuteTime": {
     "end_time": "2024-12-03T05:43:58.998478Z",
     "start_time": "2024-12-03T05:43:58.992093Z"
    }
   },
   "cell_type": "code",
   "source": [
    "args = pattern.findall(test_line)\n",
    "args"
   ],
   "id": "e88e1a3d08951f25",
   "outputs": [
    {
     "data": {
      "text/plain": [
       "[('2', '4'), ('5', '5'), ('11', '8'), ('8', '5')]"
      ]
     },
     "execution_count": 6,
     "metadata": {},
     "output_type": "execute_result"
    }
   ],
   "execution_count": 6
  },
  {
   "metadata": {
    "ExecuteTime": {
     "end_time": "2024-12-03T05:46:06.137222Z",
     "start_time": "2024-12-03T05:46:06.131639Z"
    }
   },
   "cell_type": "code",
   "source": "sum(map(lambda xy: int(xy[0])*int(xy[1]), args))",
   "id": "d09480be1f6d1dc3",
   "outputs": [
    {
     "data": {
      "text/plain": [
       "161"
      ]
     },
     "execution_count": 12,
     "metadata": {},
     "output_type": "execute_result"
    }
   ],
   "execution_count": 12
  },
  {
   "metadata": {},
   "cell_type": "markdown",
   "source": "## Part One",
   "id": "ca5a1eb51cc183db"
  },
  {
   "metadata": {
    "ExecuteTime": {
     "end_time": "2024-12-03T05:48:54.689496Z",
     "start_time": "2024-12-03T05:48:54.682224Z"
    }
   },
   "cell_type": "code",
   "source": [
    "result = 0\n",
    "with open(\"input.txt\") as f:\n",
    "    for line in f:\n",
    "        args = pattern.findall(line.strip())\n",
    "        result += sum(map(lambda xy: int(xy[0])*int(xy[1]), args))"
   ],
   "id": "264004e11dee2f56",
   "outputs": [],
   "execution_count": 16
  },
  {
   "metadata": {
    "ExecuteTime": {
     "end_time": "2024-12-03T05:49:00.998031Z",
     "start_time": "2024-12-03T05:49:00.990806Z"
    }
   },
   "cell_type": "code",
   "source": "result",
   "id": "b4a12d122501ef0e",
   "outputs": [
    {
     "data": {
      "text/plain": [
       "182619815"
      ]
     },
     "execution_count": 17,
     "metadata": {},
     "output_type": "execute_result"
    }
   ],
   "execution_count": 17
  },
  {
   "metadata": {},
   "cell_type": "markdown",
   "source": "## Part Two",
   "id": "aa7fc664be7080b0"
  },
  {
   "metadata": {
    "ExecuteTime": {
     "end_time": "2024-12-03T05:51:39.505543Z",
     "start_time": "2024-12-03T05:51:39.500773Z"
    }
   },
   "cell_type": "code",
   "source": "test_line = \"xmul(2,4)&mul[3,7]!^don't()_mul(5,5)+mul(32,64](mul(11,8)undo()?mul(8,5))\"",
   "id": "d78f051736837fb9",
   "outputs": [],
   "execution_count": 18
  },
  {
   "metadata": {
    "ExecuteTime": {
     "end_time": "2024-12-03T05:57:39.464661Z",
     "start_time": "2024-12-03T05:57:39.459469Z"
    }
   },
   "cell_type": "code",
   "source": "pattern = re.compile(r\"(do|don't)[^do|don't|mul\\(\\d{1,3},\\d{1,3}\\)]*mul\\((\\d{1,3})\\,(\\d{1,3})\\)\")",
   "id": "f84d6f456a96f3ee",
   "outputs": [],
   "execution_count": 23
  },
  {
   "metadata": {
    "ExecuteTime": {
     "end_time": "2024-12-03T05:57:40.400273Z",
     "start_time": "2024-12-03T05:57:40.394216Z"
    }
   },
   "cell_type": "code",
   "source": "pattern.findall(test_line)",
   "id": "88aff3b695e7bde2",
   "outputs": [
    {
     "data": {
      "text/plain": [
       "[]"
      ]
     },
     "execution_count": 24,
     "metadata": {},
     "output_type": "execute_result"
    }
   ],
   "execution_count": 24
  },
  {
   "metadata": {
    "ExecuteTime": {
     "end_time": "2024-12-03T05:59:51.663658Z",
     "start_time": "2024-12-03T05:59:51.657798Z"
    }
   },
   "cell_type": "code",
   "source": "pattern = re.compile(r\"don't|do|mul\\(\\d{1,3},\\d{1,3}\\)\")",
   "id": "5f28ac590e4030c6",
   "outputs": [],
   "execution_count": 27
  },
  {
   "metadata": {
    "ExecuteTime": {
     "end_time": "2024-12-03T06:02:06.917314Z",
     "start_time": "2024-12-03T06:02:06.911412Z"
    }
   },
   "cell_type": "code",
   "source": [
    "instructions = pattern.findall(test_line)\n",
    "instructions"
   ],
   "id": "d71f4d0e2148477",
   "outputs": [
    {
     "data": {
      "text/plain": [
       "['mul(2,4)', \"don't\", 'mul(5,5)', 'mul(11,8)', 'do', 'mul(8,5)']"
      ]
     },
     "execution_count": 30,
     "metadata": {},
     "output_type": "execute_result"
    }
   ],
   "execution_count": 30
  },
  {
   "metadata": {
    "ExecuteTime": {
     "end_time": "2024-12-03T06:07:25.150641Z",
     "start_time": "2024-12-03T06:07:25.145056Z"
    }
   },
   "cell_type": "code",
   "source": [
    "do = True\n",
    "result = 0\n",
    "for instruction in instructions:\n",
    "    mul = re.match(r\"mul\\((\\d{1,3}),(\\d{1,3})\\)\", instruction)\n",
    "    if mul is not None:\n",
    "        arg1 = int(mul.group(1))\n",
    "        arg2 = int(mul.group(2))\n",
    "        if do:\n",
    "            result += arg1 * arg2\n",
    "        continue\n",
    "\n",
    "    if re.match(r\"don't\", instruction):\n",
    "        do = False\n",
    "        continue\n",
    "\n",
    "    if re.match(r\"do\", instruction):\n",
    "        do = True\n",
    "        continue"
   ],
   "id": "81fada72c6c8459d",
   "outputs": [],
   "execution_count": 37
  },
  {
   "metadata": {
    "ExecuteTime": {
     "end_time": "2024-12-03T06:07:07.581252Z",
     "start_time": "2024-12-03T06:07:07.575285Z"
    }
   },
   "cell_type": "code",
   "source": "result",
   "id": "1cd0eb6660c0da67",
   "outputs": [
    {
     "data": {
      "text/plain": [
       "48"
      ]
     },
     "execution_count": 36,
     "metadata": {},
     "output_type": "execute_result"
    }
   ],
   "execution_count": 36
  },
  {
   "metadata": {
    "ExecuteTime": {
     "end_time": "2024-12-03T06:09:28.085901Z",
     "start_time": "2024-12-03T06:09:28.078149Z"
    }
   },
   "cell_type": "code",
   "source": [
    "pattern = re.compile(r\"don't|do|mul\\(\\d{1,3},\\d{1,3}\\)\")\n",
    "do = True\n",
    "result = 0\n",
    "with open(\"input.txt\") as f:\n",
    "    for line in f:\n",
    "        instructions = pattern.findall(line.strip())\n",
    "        for instruction in instructions:\n",
    "            mul = re.match(r\"mul\\((\\d{1,3}),(\\d{1,3})\\)\", instruction)\n",
    "            if mul is not None:\n",
    "                arg1 = int(mul.group(1))\n",
    "                arg2 = int(mul.group(2))\n",
    "                if do:\n",
    "                    result += arg1 * arg2\n",
    "                continue\n",
    "\n",
    "            if re.match(r\"don't\", instruction):\n",
    "                do = False\n",
    "                continue\n",
    "\n",
    "            if re.match(r\"do\", instruction):\n",
    "                do = True\n",
    "                continue"
   ],
   "id": "dd86b95561cdb8a4",
   "outputs": [],
   "execution_count": 38
  },
  {
   "metadata": {
    "ExecuteTime": {
     "end_time": "2024-12-03T06:09:31.761212Z",
     "start_time": "2024-12-03T06:09:31.755235Z"
    }
   },
   "cell_type": "code",
   "source": "result",
   "id": "f64fdbb7e41e4d35",
   "outputs": [
    {
     "data": {
      "text/plain": [
       "80747545"
      ]
     },
     "execution_count": 39,
     "metadata": {},
     "output_type": "execute_result"
    }
   ],
   "execution_count": 39
  },
  {
   "metadata": {},
   "cell_type": "code",
   "outputs": [],
   "execution_count": null,
   "source": "",
   "id": "b8652ec5dabea09a"
  }
 ],
 "metadata": {
  "kernelspec": {
   "display_name": "Python 3",
   "language": "python",
   "name": "python3"
  },
  "language_info": {
   "codemirror_mode": {
    "name": "ipython",
    "version": 2
   },
   "file_extension": ".py",
   "mimetype": "text/x-python",
   "name": "python",
   "nbconvert_exporter": "python",
   "pygments_lexer": "ipython2",
   "version": "2.7.6"
  }
 },
 "nbformat": 4,
 "nbformat_minor": 5
}
