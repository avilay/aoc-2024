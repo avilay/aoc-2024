{
 "cells": [
  {
   "metadata": {},
   "cell_type": "markdown",
   "source": "## Part One",
   "id": "3a855813a81d1286"
  },
  {
   "metadata": {
    "ExecuteTime": {
     "end_time": "2024-12-05T19:52:05.680846Z",
     "start_time": "2024-12-05T19:52:05.678190Z"
    }
   },
   "cell_type": "code",
   "source": [
    "test_text = \"\"\"\n",
    "....XXMAS.\n",
    ".SAMXMS...\n",
    "...S..A...\n",
    "..A.A.MS.X\n",
    "XMASAMX.MM\n",
    "X.....XA.A\n",
    "S.S.S.S.SS\n",
    ".A.A.A.A.A\n",
    "..M.M.M.MM\n",
    ".X.X.XMASX\n",
    "\"\"\""
   ],
   "id": "95d83de68d722ff1",
   "outputs": [],
   "execution_count": 17
  },
  {
   "metadata": {},
   "cell_type": "markdown",
   "source": [
    "Basic algo -\n",
    "* Get each row and search for XMAS or SAMX\n",
    "* Get each colum and search\n",
    "* Get each left-to-right diagonal\n",
    "* Get each right-to-left diagonal\n",
    "\n",
    "Let me check if numpy has easy ways of getting both the diagonals.\n"
   ],
   "id": "861e6e4037b1168a"
  },
  {
   "metadata": {
    "ExecuteTime": {
     "end_time": "2024-12-05T19:39:01.481169Z",
     "start_time": "2024-12-05T19:39:01.377734Z"
    }
   },
   "cell_type": "code",
   "source": "import numpy as np",
   "id": "211cf058dc354831",
   "outputs": [],
   "execution_count": 1
  },
  {
   "metadata": {
    "ExecuteTime": {
     "end_time": "2024-12-05T19:48:29.133280Z",
     "start_time": "2024-12-05T19:48:29.127783Z"
    }
   },
   "cell_type": "code",
   "source": [
    "tp = np.arange(16).reshape((4, 4))\n",
    "tp"
   ],
   "id": "768b60b702827635",
   "outputs": [
    {
     "data": {
      "text/plain": [
       "array([[ 0,  1,  2,  3],\n",
       "       [ 4,  5,  6,  7],\n",
       "       [ 8,  9, 10, 11],\n",
       "       [12, 13, 14, 15]])"
      ]
     },
     "execution_count": 12,
     "metadata": {},
     "output_type": "execute_result"
    }
   ],
   "execution_count": 12
  },
  {
   "metadata": {
    "ExecuteTime": {
     "end_time": "2024-12-05T19:49:19.083730Z",
     "start_time": "2024-12-05T19:49:19.078062Z"
    }
   },
   "cell_type": "code",
   "source": [
    "for offset in range(-3, 4):\n",
    "    print(tp.diagonal(offset))"
   ],
   "id": "7f7494ed47252418",
   "outputs": [
    {
     "name": "stdout",
     "output_type": "stream",
     "text": [
      "[12]\n",
      "[ 8 13]\n",
      "[ 4  9 14]\n",
      "[ 0  5 10 15]\n",
      "[ 1  6 11]\n",
      "[2 7]\n",
      "[3]\n"
     ]
    }
   ],
   "execution_count": 13
  },
  {
   "metadata": {
    "ExecuteTime": {
     "end_time": "2024-12-05T19:50:04.378531Z",
     "start_time": "2024-12-05T19:50:04.374145Z"
    }
   },
   "cell_type": "code",
   "source": [
    "tp = np.rot90(tp)\n",
    "for offset in range(-3, 4):\n",
    "    print(tp.diagonal(offset))"
   ],
   "id": "1f9d4c3eaea965b1",
   "outputs": [
    {
     "name": "stdout",
     "output_type": "stream",
     "text": [
      "[0]\n",
      "[1 4]\n",
      "[2 5 8]\n",
      "[ 3  6  9 12]\n",
      "[ 7 10 13]\n",
      "[11 14]\n",
      "[15]\n"
     ]
    }
   ],
   "execution_count": 14
  },
  {
   "metadata": {
    "ExecuteTime": {
     "end_time": "2024-12-05T19:50:53.321009Z",
     "start_time": "2024-12-05T19:50:53.318376Z"
    }
   },
   "cell_type": "code",
   "source": "import re",
   "id": "183031cdc44a963c",
   "outputs": [],
   "execution_count": 15
  },
  {
   "metadata": {
    "ExecuteTime": {
     "end_time": "2024-12-05T19:56:27.102309Z",
     "start_time": "2024-12-05T19:56:27.097354Z"
    }
   },
   "cell_type": "code",
   "source": "re.findall(r\"XMAS|SAMX\", \"XMASAMX.MM\")",
   "id": "ac2eb9d8046d2d92",
   "outputs": [
    {
     "data": {
      "text/plain": [
       "['XMAS']"
      ]
     },
     "execution_count": 28,
     "metadata": {},
     "output_type": "execute_result"
    }
   ],
   "execution_count": 28
  },
  {
   "metadata": {
    "ExecuteTime": {
     "end_time": "2024-12-05T19:56:38.344145Z",
     "start_time": "2024-12-05T19:56:38.341165Z"
    }
   },
   "cell_type": "code",
   "source": "re.findall(r\"SAMX|XMAS\", \"XMASAMX.MM\")",
   "id": "7a9b0a669bf3ba17",
   "outputs": [
    {
     "data": {
      "text/plain": [
       "['XMAS']"
      ]
     },
     "execution_count": 29,
     "metadata": {},
     "output_type": "execute_result"
    }
   ],
   "execution_count": 29
  },
  {
   "metadata": {
    "ExecuteTime": {
     "end_time": "2024-12-05T19:57:09.925509Z",
     "start_time": "2024-12-05T19:57:09.921783Z"
    }
   },
   "cell_type": "code",
   "source": "re.findall(r\"XMAS|SAMX\", \"XMAS..SAMX.MM\")",
   "id": "7037b3712e1cc581",
   "outputs": [
    {
     "data": {
      "text/plain": [
       "['XMAS', 'SAMX']"
      ]
     },
     "execution_count": 30,
     "metadata": {},
     "output_type": "execute_result"
    }
   ],
   "execution_count": 30
  },
  {
   "metadata": {},
   "cell_type": "markdown",
   "source": [
    "Ok regex will only work if the words are not overlapping. I'll just need to run two different regexes.\n",
    "\n",
    "Now how do I convert an array of lines into a numpy array?"
   ],
   "id": "e9f0e01eeb295dfb"
  },
  {
   "metadata": {
    "ExecuteTime": {
     "end_time": "2024-12-05T20:00:26.534054Z",
     "start_time": "2024-12-05T20:00:26.528280Z"
    }
   },
   "cell_type": "code",
   "source": "np.array(list(\"....XXMAS.\"))",
   "id": "5f90d99cf140b982",
   "outputs": [
    {
     "data": {
      "text/plain": [
       "array(['.', '.', '.', '.', 'X', 'X', 'M', 'A', 'S', '.'], dtype='<U1')"
      ]
     },
     "execution_count": 34,
     "metadata": {},
     "output_type": "execute_result"
    }
   ],
   "execution_count": 34
  },
  {
   "metadata": {
    "ExecuteTime": {
     "end_time": "2024-12-05T20:03:29.129860Z",
     "start_time": "2024-12-05T20:03:29.125318Z"
    }
   },
   "cell_type": "code",
   "source": [
    "arrs = [\n",
    "    np.array([1, 2, 3, 4]),\n",
    "    np.array([5, 6, 7, 8]),\n",
    "]\n",
    "np.array(arrs)"
   ],
   "id": "ad4ce238ebe2ea77",
   "outputs": [
    {
     "data": {
      "text/plain": [
       "array([[1, 2, 3, 4],\n",
       "       [5, 6, 7, 8]])"
      ]
     },
     "execution_count": 37,
     "metadata": {},
     "output_type": "execute_result"
    }
   ],
   "execution_count": 37
  },
  {
   "metadata": {
    "ExecuteTime": {
     "end_time": "2024-12-05T20:06:43.178055Z",
     "start_time": "2024-12-05T20:06:43.173801Z"
    }
   },
   "cell_type": "code",
   "source": [
    "arrs = []\n",
    "for line in test_text.splitlines():\n",
    "    arrs.append(np.array(list(line.strip())))\n"
   ],
   "id": "766f709534075419",
   "outputs": [],
   "execution_count": 40
  },
  {
   "metadata": {
    "ExecuteTime": {
     "end_time": "2024-12-05T20:06:44.925132Z",
     "start_time": "2024-12-05T20:06:44.918360Z"
    }
   },
   "cell_type": "code",
   "source": "arrs",
   "id": "f2fadef61b3872c8",
   "outputs": [
    {
     "data": {
      "text/plain": [
       "[array([], dtype=float64),\n",
       " array(['.', '.', '.', '.', 'X', 'X', 'M', 'A', 'S', '.'], dtype='<U1'),\n",
       " array(['.', 'S', 'A', 'M', 'X', 'M', 'S', '.', '.', '.'], dtype='<U1'),\n",
       " array(['.', '.', '.', 'S', '.', '.', 'A', '.', '.', '.'], dtype='<U1'),\n",
       " array(['.', '.', 'A', '.', 'A', '.', 'M', 'S', '.', 'X'], dtype='<U1'),\n",
       " array(['X', 'M', 'A', 'S', 'A', 'M', 'X', '.', 'M', 'M'], dtype='<U1'),\n",
       " array(['X', '.', '.', '.', '.', '.', 'X', 'A', '.', 'A'], dtype='<U1'),\n",
       " array(['S', '.', 'S', '.', 'S', '.', 'S', '.', 'S', 'S'], dtype='<U1'),\n",
       " array(['.', 'A', '.', 'A', '.', 'A', '.', 'A', '.', 'A'], dtype='<U1'),\n",
       " array(['.', '.', 'M', '.', 'M', '.', 'M', '.', 'M', 'M'], dtype='<U1'),\n",
       " array(['.', 'X', '.', 'X', '.', 'X', 'M', 'A', 'S', 'X'], dtype='<U1')]"
      ]
     },
     "execution_count": 41,
     "metadata": {},
     "output_type": "execute_result"
    }
   ],
   "execution_count": 41
  },
  {
   "metadata": {
    "ExecuteTime": {
     "end_time": "2024-12-05T20:07:06.026397Z",
     "start_time": "2024-12-05T20:07:06.021390Z"
    }
   },
   "cell_type": "code",
   "source": [
    "test_input = np.array(arrs[1:])\n",
    "test_input"
   ],
   "id": "f452be76db400545",
   "outputs": [
    {
     "data": {
      "text/plain": [
       "array([['.', '.', '.', '.', 'X', 'X', 'M', 'A', 'S', '.'],\n",
       "       ['.', 'S', 'A', 'M', 'X', 'M', 'S', '.', '.', '.'],\n",
       "       ['.', '.', '.', 'S', '.', '.', 'A', '.', '.', '.'],\n",
       "       ['.', '.', 'A', '.', 'A', '.', 'M', 'S', '.', 'X'],\n",
       "       ['X', 'M', 'A', 'S', 'A', 'M', 'X', '.', 'M', 'M'],\n",
       "       ['X', '.', '.', '.', '.', '.', 'X', 'A', '.', 'A'],\n",
       "       ['S', '.', 'S', '.', 'S', '.', 'S', '.', 'S', 'S'],\n",
       "       ['.', 'A', '.', 'A', '.', 'A', '.', 'A', '.', 'A'],\n",
       "       ['.', '.', 'M', '.', 'M', '.', 'M', '.', 'M', 'M'],\n",
       "       ['.', 'X', '.', 'X', '.', 'X', 'M', 'A', 'S', 'X']], dtype='<U1')"
      ]
     },
     "execution_count": 43,
     "metadata": {},
     "output_type": "execute_result"
    }
   ],
   "execution_count": 43
  },
  {
   "metadata": {
    "ExecuteTime": {
     "end_time": "2024-12-05T20:11:25.996883Z",
     "start_time": "2024-12-05T20:11:25.991911Z"
    }
   },
   "cell_type": "code",
   "source": [
    "xmas = re.compile(r\"XMAS\")\n",
    "samx = re.compile(r\"SAMX\")\n",
    "\n",
    "\n",
    "def count_xmas(line: str) -> int:\n",
    "    return len(xmas.findall(line)) + len(samx.findall(line))"
   ],
   "id": "e2a3373cb1bcfd27",
   "outputs": [],
   "execution_count": 52
  },
  {
   "metadata": {
    "ExecuteTime": {
     "end_time": "2024-12-05T20:11:26.519245Z",
     "start_time": "2024-12-05T20:11:26.515160Z"
    }
   },
   "cell_type": "code",
   "source": "count_xmas(\"XMASAMX.MM\")",
   "id": "55596796344035f2",
   "outputs": [
    {
     "data": {
      "text/plain": [
       "2"
      ]
     },
     "execution_count": 53,
     "metadata": {},
     "output_type": "execute_result"
    }
   ],
   "execution_count": 53
  },
  {
   "metadata": {
    "ExecuteTime": {
     "end_time": "2024-12-05T20:15:39.186682Z",
     "start_time": "2024-12-05T20:15:39.181759Z"
    }
   },
   "cell_type": "code",
   "source": [
    "total_count = 0\n",
    "n = test_input.shape[0]\n",
    "\n",
    "for row in test_input:\n",
    "    line = \"\".join(row)\n",
    "    total_count += count_xmas(line)\n",
    "\n",
    "for col in test_input.T:\n",
    "    line = \"\".join(col)\n",
    "    total_count += count_xmas(line)\n",
    "\n",
    "# left-to-right diagonals\n",
    "for offset in range(-(n - 1), n):\n",
    "    items = test_input.diagonal(offset)\n",
    "    line = \"\".join(items)\n",
    "    total_count += count_xmas(line)\n",
    "\n",
    "# right-to-left diagonals\n",
    "test_input = np.rot90(test_input)\n",
    "for offset in range(-(n - 1), n):\n",
    "    items = test_input.diagonal(offset)\n",
    "    line = \"\".join(items)\n",
    "    total_count += count_xmas(line)\n"
   ],
   "id": "d2c70562170e98a3",
   "outputs": [],
   "execution_count": 55
  },
  {
   "metadata": {
    "ExecuteTime": {
     "end_time": "2024-12-05T20:15:41.547830Z",
     "start_time": "2024-12-05T20:15:41.543549Z"
    }
   },
   "cell_type": "code",
   "source": "total_count",
   "id": "2e6756f700d0a9a7",
   "outputs": [
    {
     "data": {
      "text/plain": [
       "18"
      ]
     },
     "execution_count": 56,
     "metadata": {},
     "output_type": "execute_result"
    }
   ],
   "execution_count": 56
  },
  {
   "metadata": {
    "ExecuteTime": {
     "end_time": "2024-12-05T20:21:57.275789Z",
     "start_time": "2024-12-05T20:21:54.179341Z"
    }
   },
   "cell_type": "code",
   "source": "%reset",
   "id": "71d446a47f253e73",
   "outputs": [],
   "execution_count": 68
  },
  {
   "metadata": {
    "ExecuteTime": {
     "end_time": "2024-12-05T20:21:59.917035Z",
     "start_time": "2024-12-05T20:21:59.913201Z"
    }
   },
   "cell_type": "code",
   "source": [
    "import numpy as np\n",
    "import re"
   ],
   "id": "7914569b5c3daca7",
   "outputs": [],
   "execution_count": 69
  },
  {
   "metadata": {
    "ExecuteTime": {
     "end_time": "2024-12-05T20:22:00.711602Z",
     "start_time": "2024-12-05T20:22:00.706250Z"
    }
   },
   "cell_type": "code",
   "source": [
    "def to_array(filename):\n",
    "    arrs = []\n",
    "    with open(filename) as f:\n",
    "        for line in f:\n",
    "            arrs.append(np.array(list(line.strip())))\n",
    "    return np.array(arrs)"
   ],
   "id": "29b07d6564dd2964",
   "outputs": [],
   "execution_count": 70
  },
  {
   "metadata": {
    "ExecuteTime": {
     "end_time": "2024-12-05T20:22:01.444879Z",
     "start_time": "2024-12-05T20:22:01.436149Z"
    }
   },
   "cell_type": "code",
   "source": [
    "matrix = to_array(\"input.txt\")\n",
    "matrix.shape"
   ],
   "id": "ebc7149203aa1e6",
   "outputs": [
    {
     "data": {
      "text/plain": [
       "(140, 140)"
      ]
     },
     "execution_count": 71,
     "metadata": {},
     "output_type": "execute_result"
    }
   ],
   "execution_count": 71
  },
  {
   "metadata": {
    "ExecuteTime": {
     "end_time": "2024-12-05T20:22:41.945870Z",
     "start_time": "2024-12-05T20:22:41.940699Z"
    }
   },
   "cell_type": "code",
   "source": [
    "xmas = re.compile(r\"XMAS\")\n",
    "samx = re.compile(r\"SAMX\")\n",
    "\n",
    "\n",
    "def count_xmas(line: str) -> int:\n",
    "    return len(xmas.findall(line)) + len(samx.findall(line))\n",
    "\n",
    "\n",
    "def search_xmas(matrix):\n",
    "    total_count = 0\n",
    "    n = matrix.shape[0]\n",
    "\n",
    "    for row in matrix:\n",
    "        line = \"\".join(row)\n",
    "        total_count += count_xmas(line)\n",
    "\n",
    "    for col in matrix.T:\n",
    "        line = \"\".join(col)\n",
    "        total_count += count_xmas(line)\n",
    "\n",
    "    # left-to-right diagonals\n",
    "    for offset in range(-(n - 1), n):\n",
    "        items = matrix.diagonal(offset)\n",
    "        line = \"\".join(items)\n",
    "        total_count += count_xmas(line)\n",
    "\n",
    "    # right-to-left diagonals\n",
    "    matrix = np.rot90(matrix)\n",
    "    for offset in range(-(n - 1), n):\n",
    "        items = matrix.diagonal(offset)\n",
    "        line = \"\".join(items)\n",
    "        total_count += count_xmas(line)\n",
    "\n",
    "    return total_count"
   ],
   "id": "d2eed3c4b55485b1",
   "outputs": [],
   "execution_count": 75
  },
  {
   "metadata": {
    "ExecuteTime": {
     "end_time": "2024-12-05T20:22:42.436785Z",
     "start_time": "2024-12-05T20:22:42.424186Z"
    }
   },
   "cell_type": "code",
   "source": "search_xmas(matrix)",
   "id": "1612f4bcc09b041e",
   "outputs": [
    {
     "data": {
      "text/plain": [
       "2554"
      ]
     },
     "execution_count": 76,
     "metadata": {},
     "output_type": "execute_result"
    }
   ],
   "execution_count": 76
  },
  {
   "metadata": {},
   "cell_type": "markdown",
   "source": "## Part Two",
   "id": "4ce44ede34198d50"
  },
  {
   "metadata": {
    "ExecuteTime": {
     "end_time": "2024-12-05T21:25:31.726056Z",
     "start_time": "2024-12-05T21:25:31.722620Z"
    }
   },
   "cell_type": "code",
   "source": [
    "test_text = \"\"\"\n",
    ".M.S......\n",
    "..A..MSMS.\n",
    ".M.S.MAA..\n",
    "..A.ASMSM.\n",
    ".M.S.M....\n",
    "..........\n",
    "S.S.S.S.S.\n",
    ".A.A.A.A..\n",
    "M.M.M.M.M.\n",
    "..........\n",
    "\"\"\""
   ],
   "id": "fd95b11d00749d2",
   "outputs": [],
   "execution_count": 83
  },
  {
   "metadata": {},
   "cell_type": "markdown",
   "source": [
    "Basic Algo -\n",
    "* Scan each row for either an 'S' or an 'M', and get an X from the matrix from that point on.\n",
    "* I need only look for left-to-right, go forward 2 steps, and then right-to-left. I don't need reverse-X where I am going right-to-left, going back 2 steps and then going left-to-right, because it was already covered.\n",
    "* I get the two arms of X as two strings, check if both of them are either SAM or MAS."
   ],
   "id": "f6b2690053b01ebd"
  },
  {
   "metadata": {
    "ExecuteTime": {
     "end_time": "2024-12-05T21:39:41.131541Z",
     "start_time": "2024-12-05T21:39:41.127153Z"
    }
   },
   "cell_type": "code",
   "source": [
    "def get_x(matrix: np.ndarray, start: tuple[int, int]) -> tuple[str, str]:\n",
    "    row, col = start\n",
    "    n = matrix.shape[0]\n",
    "    if row + 2 >= n or col + 2 >= n:\n",
    "        return \"\", \"\"\n",
    "\n",
    "    left_to_right = [\n",
    "        matrix[row][col],\n",
    "        matrix[row + 1, col + 1],\n",
    "        matrix[row + 2, col + 2]\n",
    "    ]\n",
    "    col = col + 2\n",
    "    right_to_left = [\n",
    "        matrix[row, col],\n",
    "        matrix[row + 1, col - 1],\n",
    "        matrix[row + 2, col - 2]\n",
    "    ]\n",
    "    return \"\".join(left_to_right), \"\".join(right_to_left)\n"
   ],
   "id": "4ac9953156ccbee6",
   "outputs": [],
   "execution_count": 103
  },
  {
   "metadata": {
    "ExecuteTime": {
     "end_time": "2024-12-05T21:39:45.110449Z",
     "start_time": "2024-12-05T21:39:45.104768Z"
    }
   },
   "cell_type": "code",
   "source": [
    "arrs = []\n",
    "for line in test_text.splitlines():\n",
    "    arrs.append(np.array(list(line.strip())))\n",
    "\n",
    "test_input = np.array(arrs[1:])\n",
    "test_input"
   ],
   "id": "ba927d2da2bd88a7",
   "outputs": [
    {
     "data": {
      "text/plain": [
       "array([['.', 'M', '.', 'S', '.', '.', '.', '.', '.', '.'],\n",
       "       ['.', '.', 'A', '.', '.', 'M', 'S', 'M', 'S', '.'],\n",
       "       ['.', 'M', '.', 'S', '.', 'M', 'A', 'A', '.', '.'],\n",
       "       ['.', '.', 'A', '.', 'A', 'S', 'M', 'S', 'M', '.'],\n",
       "       ['.', 'M', '.', 'S', '.', 'M', '.', '.', '.', '.'],\n",
       "       ['.', '.', '.', '.', '.', '.', '.', '.', '.', '.'],\n",
       "       ['S', '.', 'S', '.', 'S', '.', 'S', '.', 'S', '.'],\n",
       "       ['.', 'A', '.', 'A', '.', 'A', '.', 'A', '.', '.'],\n",
       "       ['M', '.', 'M', '.', 'M', '.', 'M', '.', 'M', '.'],\n",
       "       ['.', '.', '.', '.', '.', '.', '.', '.', '.', '.']], dtype='<U1')"
      ]
     },
     "execution_count": 104,
     "metadata": {},
     "output_type": "execute_result"
    }
   ],
   "execution_count": 104
  },
  {
   "metadata": {
    "ExecuteTime": {
     "end_time": "2024-12-05T21:39:52.093350Z",
     "start_time": "2024-12-05T21:39:52.090322Z"
    }
   },
   "cell_type": "code",
   "source": [
    "n = test_input.shape[0]\n",
    "count_x_mas = 0\n",
    "for row in range(n):\n",
    "    for col in range(n):\n",
    "        if test_input[row, col] == 'M' or test_input[row, col] == 'S':\n",
    "            left_to_right, right_to_left = get_x(test_input, (row, col))\n",
    "            if (left_to_right == \"MAS\" or left_to_right == \"SAM\") and (\n",
    "                    right_to_left == \"MAS\" or right_to_left == \"SAM\"):\n",
    "                count_x_mas += 1"
   ],
   "id": "92f853383ff72185",
   "outputs": [],
   "execution_count": 105
  },
  {
   "metadata": {
    "ExecuteTime": {
     "end_time": "2024-12-05T21:39:54.420694Z",
     "start_time": "2024-12-05T21:39:54.416225Z"
    }
   },
   "cell_type": "code",
   "source": "count_x_mas",
   "id": "7b4bf8f6fc914294",
   "outputs": [
    {
     "data": {
      "text/plain": [
       "9"
      ]
     },
     "execution_count": 106,
     "metadata": {},
     "output_type": "execute_result"
    }
   ],
   "execution_count": 106
  },
  {
   "metadata": {
    "ExecuteTime": {
     "end_time": "2024-12-05T21:32:06.263003Z",
     "start_time": "2024-12-05T21:32:06.257292Z"
    }
   },
   "cell_type": "code",
   "source": "test_input[0, 0]",
   "id": "607fa977bfad365e",
   "outputs": [
    {
     "data": {
      "text/plain": [
       "np.str_('.')"
      ]
     },
     "execution_count": 91,
     "metadata": {},
     "output_type": "execute_result"
    }
   ],
   "execution_count": 91
  },
  {
   "metadata": {
    "ExecuteTime": {
     "end_time": "2024-12-05T21:40:50.697015Z",
     "start_time": "2024-12-05T21:40:50.690292Z"
    }
   },
   "cell_type": "code",
   "source": "matrix = to_array(\"input.txt\")",
   "id": "12aad676f30241a4",
   "outputs": [],
   "execution_count": 107
  },
  {
   "metadata": {
    "ExecuteTime": {
     "end_time": "2024-12-05T21:43:55.622092Z",
     "start_time": "2024-12-05T21:43:55.618084Z"
    }
   },
   "cell_type": "code",
   "source": [
    "def search_x_mas(matrix):\n",
    "    n = matrix.shape[0]\n",
    "    count_x_mas = 0\n",
    "    for row in range(n):\n",
    "        for col in range(n):\n",
    "            if matrix[row, col] == 'M' or matrix[row, col] == 'S':\n",
    "                left_to_right, right_to_left = get_x(matrix, (row, col))\n",
    "                if (left_to_right == \"MAS\" or left_to_right == \"SAM\") and (\n",
    "                        right_to_left == \"MAS\" or right_to_left == \"SAM\"):\n",
    "                    count_x_mas += 1\n",
    "    return count_x_mas"
   ],
   "id": "1a1118e4c36a8b9d",
   "outputs": [],
   "execution_count": 115
  },
  {
   "metadata": {
    "ExecuteTime": {
     "end_time": "2024-12-05T21:43:56.367599Z",
     "start_time": "2024-12-05T21:43:56.343023Z"
    }
   },
   "cell_type": "code",
   "source": "search_x_mas(matrix)",
   "id": "cc8cceefcebb5bcd",
   "outputs": [
    {
     "data": {
      "text/plain": [
       "1916"
      ]
     },
     "execution_count": 116,
     "metadata": {},
     "output_type": "execute_result"
    }
   ],
   "execution_count": 116
  },
  {
   "metadata": {},
   "cell_type": "code",
   "outputs": [],
   "execution_count": null,
   "source": "",
   "id": "7cf32e90ea9a5ba1"
  }
 ],
 "metadata": {
  "kernelspec": {
   "name": "python3",
   "language": "python",
   "display_name": "Python 3 (ipykernel)"
  }
 },
 "nbformat": 5,
 "nbformat_minor": 9
}
