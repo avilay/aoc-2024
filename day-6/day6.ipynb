{
 "cells": [
  {
   "cell_type": "code",
   "id": "initial_id",
   "metadata": {
    "collapsed": true,
    "ExecuteTime": {
     "end_time": "2024-12-06T09:54:53.909457Z",
     "start_time": "2024-12-06T09:54:53.898513Z"
    }
   },
   "source": [
    "test_input = \"\"\"\n",
    "....#.....\n",
    ".........#\n",
    "..........\n",
    "..#.......\n",
    ".......#..\n",
    "..........\n",
    ".#..^.....\n",
    "........#.\n",
    "#.........\n",
    "......#...\n",
    "\"\"\""
   ],
   "outputs": [],
   "execution_count": 40
  },
  {
   "metadata": {
    "ExecuteTime": {
     "end_time": "2024-12-06T09:55:21.092110Z",
     "start_time": "2024-12-06T09:55:21.084497Z"
    }
   },
   "cell_type": "code",
   "source": [
    "%load_ext autoreload\n",
    "%autoreload 2\n",
    "import solution as s"
   ],
   "id": "a5bc7c683d27c53c",
   "outputs": [
    {
     "name": "stdout",
     "output_type": "stream",
     "text": [
      "The autoreload extension is already loaded. To reload it, use:\n",
      "  %reload_ext autoreload\n"
     ]
    }
   ],
   "execution_count": 46
  },
  {
   "metadata": {
    "ExecuteTime": {
     "end_time": "2024-12-06T09:57:02.539995Z",
     "start_time": "2024-12-06T09:57:02.531404Z"
    }
   },
   "cell_type": "code",
   "source": [
    "lines = test_input.splitlines()\n",
    "orig_grid = s.init_grid(lines)\n",
    "grid = orig_grid.copy()"
   ],
   "id": "fd8dd1c9c1d033c0",
   "outputs": [],
   "execution_count": 58
  },
  {
   "metadata": {
    "ExecuteTime": {
     "end_time": "2024-12-06T09:57:02.841871Z",
     "start_time": "2024-12-06T09:57:02.830076Z"
    }
   },
   "cell_type": "code",
   "source": [
    "path = s.guard_path(grid)\n",
    "for i, path in enumerate(path):\n",
    "    print(f\"[{i}] {path}\")"
   ],
   "id": "766c722a9d67d2df",
   "outputs": [
    {
     "name": "stdout",
     "output_type": "stream",
     "text": [
      "[0] ((6, 4), <Heading.UP: 1>)\n",
      "[1] ((5, 4), <Heading.UP: 1>)\n",
      "[2] ((4, 4), <Heading.UP: 1>)\n",
      "[3] ((3, 4), <Heading.UP: 1>)\n",
      "[4] ((2, 4), <Heading.UP: 1>)\n",
      "[5] ((1, 4), <Heading.UP: 1>)\n",
      "[6] ((1, 4), <Heading.RIGHT: 4>)\n",
      "[7] ((1, 5), <Heading.RIGHT: 4>)\n",
      "[8] ((1, 6), <Heading.RIGHT: 4>)\n",
      "[9] ((1, 7), <Heading.RIGHT: 4>)\n",
      "[10] ((1, 8), <Heading.RIGHT: 4>)\n",
      "[11] ((1, 8), <Heading.DOWN: 2>)\n",
      "[12] ((2, 8), <Heading.DOWN: 2>)\n",
      "[13] ((3, 8), <Heading.DOWN: 2>)\n",
      "[14] ((4, 8), <Heading.DOWN: 2>)\n",
      "[15] ((5, 8), <Heading.DOWN: 2>)\n",
      "[16] ((6, 8), <Heading.DOWN: 2>)\n",
      "[17] ((6, 8), <Heading.LEFT: 3>)\n",
      "[18] ((6, 7), <Heading.LEFT: 3>)\n",
      "[19] ((6, 6), <Heading.LEFT: 3>)\n",
      "[20] ((6, 5), <Heading.LEFT: 3>)\n",
      "[21] ((6, 4), <Heading.LEFT: 3>)\n",
      "[22] ((6, 3), <Heading.LEFT: 3>)\n",
      "[23] ((6, 2), <Heading.LEFT: 3>)\n",
      "[24] ((6, 2), <Heading.UP: 1>)\n",
      "[25] ((5, 2), <Heading.UP: 1>)\n",
      "[26] ((4, 2), <Heading.UP: 1>)\n",
      "[27] ((4, 2), <Heading.RIGHT: 4>)\n",
      "[28] ((4, 3), <Heading.RIGHT: 4>)\n",
      "[29] ((4, 4), <Heading.RIGHT: 4>)\n",
      "[30] ((4, 5), <Heading.RIGHT: 4>)\n",
      "[31] ((4, 6), <Heading.RIGHT: 4>)\n",
      "[32] ((4, 6), <Heading.DOWN: 2>)\n",
      "[33] ((5, 6), <Heading.DOWN: 2>)\n",
      "[34] ((6, 6), <Heading.DOWN: 2>)\n",
      "[35] ((7, 6), <Heading.DOWN: 2>)\n",
      "[36] ((8, 6), <Heading.DOWN: 2>)\n",
      "[37] ((8, 6), <Heading.LEFT: 3>)\n",
      "[38] ((8, 5), <Heading.LEFT: 3>)\n",
      "[39] ((8, 4), <Heading.LEFT: 3>)\n",
      "[40] ((8, 3), <Heading.LEFT: 3>)\n",
      "[41] ((8, 2), <Heading.LEFT: 3>)\n",
      "[42] ((8, 1), <Heading.LEFT: 3>)\n",
      "[43] ((8, 1), <Heading.UP: 1>)\n",
      "[44] ((7, 1), <Heading.UP: 1>)\n",
      "[45] ((7, 1), <Heading.RIGHT: 4>)\n",
      "[46] ((7, 2), <Heading.RIGHT: 4>)\n",
      "[47] ((7, 3), <Heading.RIGHT: 4>)\n",
      "[48] ((7, 4), <Heading.RIGHT: 4>)\n",
      "[49] ((7, 5), <Heading.RIGHT: 4>)\n",
      "[50] ((7, 6), <Heading.RIGHT: 4>)\n",
      "[51] ((7, 7), <Heading.RIGHT: 4>)\n",
      "[52] ((7, 7), <Heading.DOWN: 2>)\n",
      "[53] ((8, 7), <Heading.DOWN: 2>)\n",
      "[54] ((9, 7), <Heading.DOWN: 2>)\n"
     ]
    }
   ],
   "execution_count": 59
  },
  {
   "metadata": {
    "ExecuteTime": {
     "end_time": "2024-12-06T09:55:26.426590Z",
     "start_time": "2024-12-06T09:55:26.418665Z"
    }
   },
   "cell_type": "code",
   "source": [
    "expected_obs = [\n",
    "    (9, 7),\n",
    "    (8, 3),\n",
    "    (8, 1),\n",
    "    (7, 7),\n",
    "    (7, 6),\n",
    "    (6, 3)\n",
    "]"
   ],
   "id": "9d9864428b0fd393",
   "outputs": [],
   "execution_count": 49
  },
  {
   "metadata": {
    "ExecuteTime": {
     "end_time": "2024-12-06T09:57:11.449877Z",
     "start_time": "2024-12-06T09:57:11.365550Z"
    }
   },
   "cell_type": "code",
   "source": [
    "idx = 40\n",
    "grid = orig_grid.copy()\n",
    "step, _ = path[idx]\n",
    "grid[step] = \"#\"\n",
    "new_path = set()\n",
    "pos, heading = s.get_starting_position(grid)\n",
    "while pos is not None:\n",
    "    if (pos, heading) in new_path:\n",
    "        print(\"Found cycle\")\n",
    "        break\n",
    "    grid[pos] = str(heading)\n",
    "    new_path.add((pos, heading))\n",
    "    pos, heading = s.get_next_position(grid, pos, heading)"
   ],
   "id": "e98c39c289508c83",
   "outputs": [
    {
     "ename": "IndexError",
     "evalue": "tuple index out of range",
     "output_type": "error",
     "traceback": [
      "\u001B[0;31m---------------------------------------------------------------------------\u001B[0m",
      "\u001B[0;31mIndexError\u001B[0m                                Traceback (most recent call last)",
      "Cell \u001B[0;32mIn[60], line 3\u001B[0m\n\u001B[1;32m      1\u001B[0m idx \u001B[38;5;241m=\u001B[39m \u001B[38;5;241m40\u001B[39m\n\u001B[1;32m      2\u001B[0m grid \u001B[38;5;241m=\u001B[39m orig_grid\u001B[38;5;241m.\u001B[39mcopy()\n\u001B[0;32m----> 3\u001B[0m step, _ \u001B[38;5;241m=\u001B[39m \u001B[43mpath\u001B[49m\u001B[43m[\u001B[49m\u001B[43midx\u001B[49m\u001B[43m]\u001B[49m\n\u001B[1;32m      4\u001B[0m grid[step] \u001B[38;5;241m=\u001B[39m \u001B[38;5;124m\"\u001B[39m\u001B[38;5;124m#\u001B[39m\u001B[38;5;124m\"\u001B[39m\n\u001B[1;32m      5\u001B[0m new_path \u001B[38;5;241m=\u001B[39m \u001B[38;5;28mset\u001B[39m()\n",
      "\u001B[0;31mIndexError\u001B[0m: tuple index out of range"
     ]
    }
   ],
   "execution_count": 60
  },
  {
   "metadata": {
    "ExecuteTime": {
     "end_time": "2024-12-06T09:55:37.074633Z",
     "start_time": "2024-12-06T09:55:37.065678Z"
    }
   },
   "cell_type": "code",
   "source": "path",
   "id": "3fe5f3da9e2c04bf",
   "outputs": [
    {
     "data": {
      "text/plain": [
       "((9, 7), <Heading.DOWN: 2>)"
      ]
     },
     "execution_count": 51,
     "metadata": {},
     "output_type": "execute_result"
    }
   ],
   "execution_count": 51
  },
  {
   "metadata": {},
   "cell_type": "code",
   "source": "",
   "id": "c37c26d2a1541135",
   "outputs": [],
   "execution_count": null
  },
  {
   "metadata": {},
   "cell_type": "code",
   "source": [
    "len(path)\n",
    "uniq_steps = set(path)\n",
    "print(len(path), len(uniq_steps))"
   ],
   "id": "8f4c5c4e7fe6ad73",
   "outputs": [],
   "execution_count": null
  },
  {
   "metadata": {},
   "cell_type": "code",
   "source": [
    "obstructions = set()\n",
    "for i in range(len(path) - 1, 0, -1):\n",
    "    step, heading = path[i]\n",
    "    # say I put an obstruction here, see what is the next step from the previous step\n",
    "    icon = grid[step]\n",
    "    grid[step] = \"#\"\n",
    "\n",
    "    # What will happen in the previous step?\n",
    "    prev_step, prev_heading = path[i - 1]\n",
    "    next_step, next_heading = s.get_next_position(grid, prev_step, prev_heading)\n",
    "    while next_step == prev_step:\n",
    "        # guard just turned, take one more step\n",
    "        prev_step, prev_heading = next_step, next_heading\n",
    "        next_step, next_heading = s.get_next_position(grid, prev_step, prev_heading)\n",
    "    if (next_step, next_heading) in uniq_steps:\n",
    "        print(f\"Found obstruction at [{i}] {step}\")\n",
    "        obstructions.add(step)\n",
    "    grid[step] = icon"
   ],
   "id": "be407513cb8e26c8",
   "outputs": [],
   "execution_count": null
  },
  {
   "metadata": {},
   "cell_type": "code",
   "source": "obstructions",
   "id": "732598b634fef80a",
   "outputs": [],
   "execution_count": null
  },
  {
   "metadata": {},
   "cell_type": "code",
   "source": "",
   "id": "d4c337d3ff74cf6a",
   "outputs": [],
   "execution_count": null
  }
 ],
 "metadata": {
  "kernelspec": {
   "display_name": "Python 3",
   "language": "python",
   "name": "python3"
  },
  "language_info": {
   "codemirror_mode": {
    "name": "ipython",
    "version": 2
   },
   "file_extension": ".py",
   "mimetype": "text/x-python",
   "name": "python",
   "nbconvert_exporter": "python",
   "pygments_lexer": "ipython2",
   "version": "2.7.6"
  }
 },
 "nbformat": 4,
 "nbformat_minor": 5
}
