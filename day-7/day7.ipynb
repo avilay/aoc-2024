{
 "cells": [
  {
   "cell_type": "code",
   "id": "initial_id",
   "metadata": {
    "collapsed": true,
    "ExecuteTime": {
     "end_time": "2024-12-07T15:18:12.136412Z",
     "start_time": "2024-12-07T15:18:12.132944Z"
    }
   },
   "source": [
    "test_input = \"\"\"\n",
    "190: 10 19\n",
    "3267: 81 40 27\n",
    "83: 17 5\n",
    "156: 15 6\n",
    "7290: 6 8 6 15\n",
    "161011: 16 10 13\n",
    "192: 17 8 14\n",
    "21037: 9 7 18 13\n",
    "292: 11 6 16 20\n",
    "\"\"\""
   ],
   "outputs": [],
   "execution_count": 1
  },
  {
   "metadata": {
    "ExecuteTime": {
     "end_time": "2024-12-07T15:18:14.657334Z",
     "start_time": "2024-12-07T15:18:14.651047Z"
    }
   },
   "cell_type": "code",
   "source": "lines = test_input.splitlines()[1:]",
   "id": "7f0f07c556f744f8",
   "outputs": [],
   "execution_count": 2
  },
  {
   "metadata": {
    "ExecuteTime": {
     "end_time": "2024-12-07T15:18:16.336787Z",
     "start_time": "2024-12-07T15:18:16.330872Z"
    }
   },
   "cell_type": "code",
   "source": [
    "output, input_ = lines[-1].split(\":\")\n",
    "nums = [int(fld) for fld in input_.split()]\n",
    "print(output, nums)"
   ],
   "id": "d7c2615041368cf8",
   "outputs": [
    {
     "name": "stdout",
     "output_type": "stream",
     "text": [
      "292 [11, 6, 16, 20]\n"
     ]
    }
   ],
   "execution_count": 3
  },
  {
   "metadata": {
    "ExecuteTime": {
     "end_time": "2024-12-07T15:18:18.030791Z",
     "start_time": "2024-12-07T15:18:18.026258Z"
    }
   },
   "cell_type": "code",
   "source": [
    "from itertools import product\n",
    "from operator import add, mul"
   ],
   "id": "7b05c23aba2c7ae2",
   "outputs": [],
   "execution_count": 4
  },
  {
   "metadata": {
    "ExecuteTime": {
     "end_time": "2024-12-07T15:18:21.685208Z",
     "start_time": "2024-12-07T15:18:21.679364Z"
    }
   },
   "cell_type": "code",
   "source": [
    "for comb in product(*[[add, mul]] * 3):\n",
    "    print(comb)"
   ],
   "id": "4b11ee49ed53e0e0",
   "outputs": [
    {
     "name": "stdout",
     "output_type": "stream",
     "text": [
      "(<built-in function add>, <built-in function add>, <built-in function add>)\n",
      "(<built-in function add>, <built-in function add>, <built-in function mul>)\n",
      "(<built-in function add>, <built-in function mul>, <built-in function add>)\n",
      "(<built-in function add>, <built-in function mul>, <built-in function mul>)\n",
      "(<built-in function mul>, <built-in function add>, <built-in function add>)\n",
      "(<built-in function mul>, <built-in function add>, <built-in function mul>)\n",
      "(<built-in function mul>, <built-in function mul>, <built-in function add>)\n",
      "(<built-in function mul>, <built-in function mul>, <built-in function mul>)\n"
     ]
    }
   ],
   "execution_count": 5
  },
  {
   "metadata": {
    "ExecuteTime": {
     "end_time": "2024-12-07T15:18:34.290440Z",
     "start_time": "2024-12-07T15:18:34.285961Z"
    }
   },
   "cell_type": "code",
   "source": "comb = (add, mul, add)",
   "id": "a8d59ba72d6ba0e2",
   "outputs": [],
   "execution_count": 6
  },
  {
   "metadata": {
    "ExecuteTime": {
     "end_time": "2024-12-07T15:18:36.685466Z",
     "start_time": "2024-12-07T15:18:36.674920Z"
    }
   },
   "cell_type": "code",
   "source": [
    "comb[2](\n",
    "    comb[1](\n",
    "        comb[0](\n",
    "            nums[0],\n",
    "            nums[1]\n",
    "        ),\n",
    "        nums[2]\n",
    "    ),\n",
    "    nums[3]\n",
    ")"
   ],
   "id": "c0583af826170613",
   "outputs": [
    {
     "data": {
      "text/plain": [
       "292"
      ]
     },
     "execution_count": 7,
     "metadata": {},
     "output_type": "execute_result"
    }
   ],
   "execution_count": 7
  },
  {
   "metadata": {
    "ExecuteTime": {
     "end_time": "2024-12-07T15:19:48.448573Z",
     "start_time": "2024-12-07T15:19:48.402329Z"
    }
   },
   "cell_type": "code",
   "source": "from icecream import ic",
   "id": "c10f28d4232473a9",
   "outputs": [],
   "execution_count": 8
  },
  {
   "metadata": {
    "ExecuteTime": {
     "end_time": "2024-12-07T15:19:48.888920Z",
     "start_time": "2024-12-07T15:19:48.883735Z"
    }
   },
   "cell_type": "code",
   "source": [
    "def apply(all_ops, all_vals):\n",
    "    if not all_ops and len(all_vals) == 1:\n",
    "        return all_vals[0]\n",
    "\n",
    "    op, ops = all_ops[0], all_ops[1:]\n",
    "    val1, vals = all_vals[0], all_vals[1:]\n",
    "    val2 = apply(ops, vals)\n",
    "    ic(op.__name__, val1, val2)\n",
    "    return op(val2, val1)"
   ],
   "id": "4f2c2dce323e60ff",
   "outputs": [],
   "execution_count": 9
  },
  {
   "metadata": {
    "ExecuteTime": {
     "end_time": "2024-12-07T15:19:49.981161Z",
     "start_time": "2024-12-07T15:19:49.902483Z"
    }
   },
   "cell_type": "code",
   "source": "apply(list(reversed(comb)), list(reversed(nums)))",
   "id": "28913970d09274c1",
   "outputs": [
    {
     "name": "stderr",
     "output_type": "stream",
     "text": [
      "ic| op.__name__: 'add', val1: 6, val2: 11\n",
      "ic| op.__name__: 'mul', val1: 16, val2: 17\n",
      "ic| op.__name__: 'add', val1: 20, val2: 272\n"
     ]
    },
    {
     "data": {
      "text/plain": [
       "292"
      ]
     },
     "execution_count": 10,
     "metadata": {},
     "output_type": "execute_result"
    }
   ],
   "execution_count": 10
  },
  {
   "metadata": {
    "ExecuteTime": {
     "end_time": "2024-12-07T15:37:14.944176Z",
     "start_time": "2024-12-07T15:37:14.936745Z"
    }
   },
   "cell_type": "code",
   "source": "int(str(15) + str(6))",
   "id": "f07d74a943948868",
   "outputs": [
    {
     "data": {
      "text/plain": [
       "156"
      ]
     },
     "execution_count": 11,
     "metadata": {},
     "output_type": "execute_result"
    }
   ],
   "execution_count": 11
  },
  {
   "metadata": {},
   "cell_type": "code",
   "outputs": [],
   "execution_count": null,
   "source": "",
   "id": "d7c5b184ef3a2766"
  }
 ],
 "metadata": {
  "kernelspec": {
   "display_name": "Python 3",
   "language": "python",
   "name": "python3"
  },
  "language_info": {
   "codemirror_mode": {
    "name": "ipython",
    "version": 2
   },
   "file_extension": ".py",
   "mimetype": "text/x-python",
   "name": "python",
   "nbconvert_exporter": "python",
   "pygments_lexer": "ipython2",
   "version": "2.7.6"
  }
 },
 "nbformat": 4,
 "nbformat_minor": 5
}
