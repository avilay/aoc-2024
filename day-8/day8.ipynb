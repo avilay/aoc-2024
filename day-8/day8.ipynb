{
 "cells": [
  {
   "metadata": {
    "ExecuteTime": {
     "end_time": "2024-12-09T04:04:17.099606Z",
     "start_time": "2024-12-09T04:04:17.097034Z"
    }
   },
   "cell_type": "code",
   "source": [
    "test_solution_grid = \"\"\"\n",
    "......#....#\n",
    "...#....0...\n",
    "....#0....#.\n",
    "..#....0....\n",
    "....0....#..\n",
    ".#....A.....\n",
    "...#........\n",
    "#......#....\n",
    "........A...\n",
    ".........A..\n",
    "..........#.\n",
    "..........#.\n",
    "\"\"\""
   ],
   "id": "b3d89f48e6a0bc34",
   "outputs": [],
   "execution_count": 1
  },
  {
   "metadata": {
    "ExecuteTime": {
     "end_time": "2024-12-09T04:04:17.521547Z",
     "start_time": "2024-12-09T04:04:17.517378Z"
    }
   },
   "cell_type": "code",
   "source": [
    "grid = []\n",
    "for j, line in enumerate(test_solution_grid.splitlines()[1:]):\n",
    "    row = [f\"[{j}]\".center(5, \" \")]\n",
    "    for i, char in enumerate(line):\n",
    "        if char == \".\":\n",
    "            row.append(str(i).center(5, \" \"))\n",
    "        elif char == \"#\":\n",
    "            row.append(\" {#} \")\n",
    "        else:\n",
    "            row.append(f\" [{char}] \")\n",
    "    grid.append(\"\".join(row))\n"
   ],
   "id": "7e8b84e32474c0cd",
   "outputs": [],
   "execution_count": 2
  },
  {
   "metadata": {
    "ExecuteTime": {
     "end_time": "2024-12-09T04:04:17.935771Z",
     "start_time": "2024-12-09T04:04:17.928600Z"
    }
   },
   "cell_type": "code",
   "source": "grid",
   "id": "fc64c005e5aa53d",
   "outputs": [
    {
     "data": {
      "text/plain": [
       "[' [0]   0    1    2    3    4    5   {#}   7    8    9    10  {#} ',\n",
       " ' [1]   0    1    2   {#}   4    5    6    7   [0]   9    10   11 ',\n",
       " ' [2]   0    1    2    3   {#}  [0]   6    7    8    9   {#}   11 ',\n",
       " ' [3]   0    1   {#}   3    4    5    6   [0]   8    9    10   11 ',\n",
       " ' [4]   0    1    2    3   [0]   5    6    7    8   {#}   10   11 ',\n",
       " ' [5]   0   {#}   2    3    4    5   [A]   7    8    9    10   11 ',\n",
       " ' [6]   0    1    2   {#}   4    5    6    7    8    9    10   11 ',\n",
       " ' [7]  {#}   1    2    3    4    5    6   {#}   8    9    10   11 ',\n",
       " ' [8]   0    1    2    3    4    5    6    7   [A]   9    10   11 ',\n",
       " ' [9]   0    1    2    3    4    5    6    7    8   [A]   10   11 ',\n",
       " ' [10]  0    1    2    3    4    5    6    7    8    9   {#}   11 ',\n",
       " ' [11]  0    1    2    3    4    5    6    7    8    9   {#}   11 ']"
      ]
     },
     "execution_count": 3,
     "metadata": {},
     "output_type": "execute_result"
    }
   ],
   "execution_count": 3
  },
  {
   "metadata": {
    "ExecuteTime": {
     "end_time": "2024-12-09T04:04:18.359269Z",
     "start_time": "2024-12-09T04:04:18.355517Z"
    }
   },
   "cell_type": "code",
   "source": [
    "test_solution = [\n",
    "    (0, 6), (0, 11),\n",
    "    (1, 3),\n",
    "    (2, 4), (2, 10),\n",
    "    (3, 2),\n",
    "    (4, 9),\n",
    "    (5, 1), (5, 6),\n",
    "    (6, 3),\n",
    "    (7, 0), (7, 7),\n",
    "    (10, 10),\n",
    "    (11, 10)\n",
    "]\n",
    "len(test_solution)"
   ],
   "id": "9fbae8c94a8bbb3",
   "outputs": [
    {
     "data": {
      "text/plain": [
       "14"
      ]
     },
     "execution_count": 4,
     "metadata": {},
     "output_type": "execute_result"
    }
   ],
   "execution_count": 4
  },
  {
   "metadata": {
    "ExecuteTime": {
     "end_time": "2024-12-09T04:04:18.768220Z",
     "start_time": "2024-12-09T04:04:18.764479Z"
    }
   },
   "cell_type": "code",
   "source": [
    "n1 = (1, 8)\n",
    "n2 = (2, 5)\n",
    "a1 = (0, 11)\n",
    "a2 = (3, 2)"
   ],
   "id": "2582dba6fce656dc",
   "outputs": [],
   "execution_count": 5
  },
  {
   "metadata": {
    "ExecuteTime": {
     "end_time": "2024-12-09T04:04:19.220154Z",
     "start_time": "2024-12-09T04:04:19.216165Z"
    }
   },
   "cell_type": "code",
   "source": [
    "dy = n1[0] - n2[0]\n",
    "dx = n1[1] - n2[1]\n",
    "d = (dy, dx)\n",
    "print(d)"
   ],
   "id": "f2aaea5fed3f8884",
   "outputs": [
    {
     "name": "stdout",
     "output_type": "stream",
     "text": [
      "(-1, 3)\n"
     ]
    }
   ],
   "execution_count": 6
  },
  {
   "metadata": {},
   "cell_type": "markdown",
   "source": [
    "$$\n",
    "n_1 - n_2 = \\delta\n",
    "$$\n",
    "$$\n",
    "a_1 - n_1 = \\delta\n",
    "$$\n",
    "$$\n",
    "n_2 - a_2 = \\delta\n",
    "$$\n"
   ],
   "id": "c757bee7efdfe31d"
  },
  {
   "metadata": {},
   "cell_type": "markdown",
   "source": [
    "$$\n",
    "a_1 = \\delta + n_1\n",
    "$$\n",
    "\n",
    "$$\n",
    "a_2 = n_2 - \\delta\n",
    "$$"
   ],
   "id": "677d340c5da3659a"
  },
  {
   "metadata": {
    "ExecuteTime": {
     "end_time": "2024-12-09T04:04:20.449751Z",
     "start_time": "2024-12-09T04:04:20.445667Z"
    }
   },
   "cell_type": "code",
   "source": [
    "a1_ = (d[0] + n1[0], d[1] + n1[1])\n",
    "print(a1_)"
   ],
   "id": "29ba42edbd97f991",
   "outputs": [
    {
     "name": "stdout",
     "output_type": "stream",
     "text": [
      "(0, 11)\n"
     ]
    }
   ],
   "execution_count": 7
  },
  {
   "metadata": {
    "ExecuteTime": {
     "end_time": "2024-12-09T04:04:20.845611Z",
     "start_time": "2024-12-09T04:04:20.841513Z"
    }
   },
   "cell_type": "code",
   "source": [
    "a2_ = (n2[0] - d[0], n2[1] - d[1])\n",
    "print(a2_)"
   ],
   "id": "d16aa37ae43b08f8",
   "outputs": [
    {
     "name": "stdout",
     "output_type": "stream",
     "text": [
      "(3, 2)\n"
     ]
    }
   ],
   "execution_count": 8
  },
  {
   "metadata": {
    "ExecuteTime": {
     "end_time": "2024-12-09T04:04:21.251032Z",
     "start_time": "2024-12-09T04:04:21.247551Z"
    }
   },
   "cell_type": "code",
   "source": [
    "test_input = test_solution_grid.replace(\"#\", \".\")\n",
    "print(test_input)"
   ],
   "id": "2484fa39cd729910",
   "outputs": [
    {
     "name": "stdout",
     "output_type": "stream",
     "text": [
      "\n",
      "............\n",
      "........0...\n",
      ".....0......\n",
      ".......0....\n",
      "....0.......\n",
      "......A.....\n",
      "............\n",
      "............\n",
      "........A...\n",
      ".........A..\n",
      "............\n",
      "............\n",
      "\n"
     ]
    }
   ],
   "execution_count": 9
  },
  {
   "metadata": {
    "ExecuteTime": {
     "end_time": "2024-12-09T04:04:21.665049Z",
     "start_time": "2024-12-09T04:04:21.661725Z"
    }
   },
   "cell_type": "code",
   "source": "from collections import defaultdict",
   "id": "b060c29cb2ec7900",
   "outputs": [],
   "execution_count": 10
  },
  {
   "metadata": {
    "ExecuteTime": {
     "end_time": "2024-12-09T04:04:22.047307Z",
     "start_time": "2024-12-09T04:04:22.043377Z"
    }
   },
   "cell_type": "code",
   "source": [
    "lines = test_input.splitlines()[1:]\n",
    "max_rows = len(lines)\n",
    "max_cols = len(lines[0])\n",
    "print(max_rows, max_cols)"
   ],
   "id": "2085c5eb10e9bfaf",
   "outputs": [
    {
     "name": "stdout",
     "output_type": "stream",
     "text": [
      "12 12\n"
     ]
    }
   ],
   "execution_count": 11
  },
  {
   "metadata": {
    "ExecuteTime": {
     "end_time": "2024-12-09T04:04:22.464883Z",
     "start_time": "2024-12-09T04:04:22.459954Z"
    }
   },
   "cell_type": "code",
   "source": [
    "class Vec:\n",
    "    def __init__(self, row, col):\n",
    "        self.row = row\n",
    "        self.col = col\n",
    "\n",
    "    def __add__(self, other):\n",
    "        return Vec(self.row + other.row, self.col + other.col)\n",
    "\n",
    "    def __sub__(self, other):\n",
    "        return Vec(self.row - other.row, self.col - other.col)\n",
    "\n",
    "    def __repr__(self):\n",
    "        return f\"({self.row},{self.col})\"\n"
   ],
   "id": "bddc974ff6ec5a26",
   "outputs": [],
   "execution_count": 12
  },
  {
   "metadata": {
    "ExecuteTime": {
     "end_time": "2024-12-09T04:04:23.107639Z",
     "start_time": "2024-12-09T04:04:23.102722Z"
    }
   },
   "cell_type": "code",
   "source": [
    "n1 = Vec(1, 8)\n",
    "n2 = Vec(2, 5)\n",
    "d = n1 - n2\n",
    "print(d)\n"
   ],
   "id": "ca8415aba9566ad",
   "outputs": [
    {
     "name": "stdout",
     "output_type": "stream",
     "text": [
      "(-1,3)\n"
     ]
    }
   ],
   "execution_count": 13
  },
  {
   "metadata": {
    "ExecuteTime": {
     "end_time": "2024-12-09T04:04:23.482428Z",
     "start_time": "2024-12-09T04:04:23.478481Z"
    }
   },
   "cell_type": "code",
   "source": [
    "print(d + n1)\n",
    "print(n2 - d)"
   ],
   "id": "3b968a7a857bc3b8",
   "outputs": [
    {
     "name": "stdout",
     "output_type": "stream",
     "text": [
      "(0,11)\n",
      "(3,2)\n"
     ]
    }
   ],
   "execution_count": 14
  },
  {
   "metadata": {
    "ExecuteTime": {
     "end_time": "2024-12-09T04:04:23.876421Z",
     "start_time": "2024-12-09T04:04:23.872904Z"
    }
   },
   "cell_type": "code",
   "source": [
    "sparse_grid = defaultdict(list)\n",
    "for i, line in enumerate(lines):\n",
    "    for j, char in enumerate(line):\n",
    "        if char == \".\":\n",
    "            continue\n",
    "        else:\n",
    "            sparse_grid[char].append(Vec(i, j))"
   ],
   "id": "8fd1e13e24ed1bae",
   "outputs": [],
   "execution_count": 15
  },
  {
   "metadata": {
    "ExecuteTime": {
     "end_time": "2024-12-09T04:04:24.277932Z",
     "start_time": "2024-12-09T04:04:24.272917Z"
    }
   },
   "cell_type": "code",
   "source": "sparse_grid",
   "id": "c9d68e8dee919bac",
   "outputs": [
    {
     "data": {
      "text/plain": [
       "defaultdict(list,\n",
       "            {'0': [(1,8), (2,5), (3,7), (4,4)], 'A': [(5,6), (8,8), (9,9)]})"
      ]
     },
     "execution_count": 16,
     "metadata": {},
     "output_type": "execute_result"
    }
   ],
   "execution_count": 16
  },
  {
   "metadata": {
    "ExecuteTime": {
     "end_time": "2024-12-09T04:04:24.682939Z",
     "start_time": "2024-12-09T04:04:24.678995Z"
    }
   },
   "cell_type": "code",
   "source": [
    "def within_bounds(u):\n",
    "    return 0 <= u.row < max_rows and 0 <= u.col < max_cols\n",
    "\n",
    "\n",
    "def find_antinodes(vecs):\n",
    "    antinodes = set()\n",
    "    for i, v1 in enumerate(vecs):\n",
    "        for v2 in vecs[i + 1:]:\n",
    "            d = v1 - v2\n",
    "            a1 = d + v1\n",
    "            a2 = v2 - d\n",
    "            if within_bounds(a1):\n",
    "                antinodes.add(a1)\n",
    "            if within_bounds(a2):\n",
    "                antinodes.add(a2)\n",
    "    return antinodes\n"
   ],
   "id": "b48a70eda6fe6899",
   "outputs": [],
   "execution_count": 17
  },
  {
   "metadata": {
    "ExecuteTime": {
     "end_time": "2024-12-09T04:04:25.355194Z",
     "start_time": "2024-12-09T04:04:25.352027Z"
    }
   },
   "cell_type": "code",
   "source": [
    "antinodes = set()\n",
    "for symbol, vecs in sparse_grid.items():\n",
    "    antinodes.update(find_antinodes(vecs))"
   ],
   "id": "3b0d0cf4f4b8739",
   "outputs": [],
   "execution_count": 18
  },
  {
   "metadata": {
    "ExecuteTime": {
     "end_time": "2024-12-09T04:04:25.735643Z",
     "start_time": "2024-12-09T04:04:25.730321Z"
    }
   },
   "cell_type": "code",
   "source": "sorted(antinodes, key=lambda v: (v.row, v.col))",
   "id": "218c6ffebf8a08bc",
   "outputs": [
    {
     "data": {
      "text/plain": [
       "[(0,6),\n",
       " (0,11),\n",
       " (1,3),\n",
       " (1,3),\n",
       " (2,4),\n",
       " (2,10),\n",
       " (3,2),\n",
       " (4,9),\n",
       " (5,1),\n",
       " (5,6),\n",
       " (6,3),\n",
       " (7,0),\n",
       " (7,7),\n",
       " (10,10),\n",
       " (11,10)]"
      ]
     },
     "execution_count": 19,
     "metadata": {},
     "output_type": "execute_result"
    }
   ],
   "execution_count": 19
  },
  {
   "metadata": {
    "ExecuteTime": {
     "end_time": "2024-12-09T04:04:26.138211Z",
     "start_time": "2024-12-09T04:04:26.134716Z"
    }
   },
   "cell_type": "code",
   "source": "len(antinodes)",
   "id": "12b3f77d60e0f398",
   "outputs": [
    {
     "data": {
      "text/plain": [
       "15"
      ]
     },
     "execution_count": 20,
     "metadata": {},
     "output_type": "execute_result"
    }
   ],
   "execution_count": 20
  },
  {
   "metadata": {
    "ExecuteTime": {
     "end_time": "2024-12-09T04:04:26.513148Z",
     "start_time": "2024-12-09T04:04:26.508251Z"
    }
   },
   "cell_type": "code",
   "source": "sorted(test_solution, key=lambda rc: (rc[0], rc[1]))",
   "id": "2dd168f183fc682c",
   "outputs": [
    {
     "data": {
      "text/plain": [
       "[(0, 6),\n",
       " (0, 11),\n",
       " (1, 3),\n",
       " (2, 4),\n",
       " (2, 10),\n",
       " (3, 2),\n",
       " (4, 9),\n",
       " (5, 1),\n",
       " (5, 6),\n",
       " (6, 3),\n",
       " (7, 0),\n",
       " (7, 7),\n",
       " (10, 10),\n",
       " (11, 10)]"
      ]
     },
     "execution_count": 21,
     "metadata": {},
     "output_type": "execute_result"
    }
   ],
   "execution_count": 21
  },
  {
   "metadata": {
    "ExecuteTime": {
     "end_time": "2024-12-09T04:04:26.889537Z",
     "start_time": "2024-12-09T04:04:26.883719Z"
    }
   },
   "cell_type": "code",
   "source": "import day8_part1 as d8",
   "id": "dc58060d1479c3ce",
   "outputs": [],
   "execution_count": 22
  },
  {
   "metadata": {
    "ExecuteTime": {
     "end_time": "2024-12-09T04:04:27.278220Z",
     "start_time": "2024-12-09T04:04:27.273943Z"
    }
   },
   "cell_type": "code",
   "source": "lines = open(\"input.txt\").read().splitlines()",
   "id": "b44075697d17e251",
   "outputs": [],
   "execution_count": 23
  },
  {
   "metadata": {
    "ExecuteTime": {
     "end_time": "2024-12-09T04:04:27.670410Z",
     "start_time": "2024-12-09T04:04:27.666541Z"
    }
   },
   "cell_type": "code",
   "source": "len(lines)",
   "id": "5e91eac9942c4da7",
   "outputs": [
    {
     "data": {
      "text/plain": [
       "50"
      ]
     },
     "execution_count": 24,
     "metadata": {},
     "output_type": "execute_result"
    }
   ],
   "execution_count": 24
  },
  {
   "metadata": {
    "ExecuteTime": {
     "end_time": "2024-12-09T04:04:28.074184Z",
     "start_time": "2024-12-09T04:04:28.070397Z"
    }
   },
   "cell_type": "code",
   "source": "sg = d8.build_grid(lines)",
   "id": "6991c64fbba12962",
   "outputs": [],
   "execution_count": 25
  },
  {
   "metadata": {
    "ExecuteTime": {
     "end_time": "2024-12-09T04:04:28.447298Z",
     "start_time": "2024-12-09T04:04:28.442833Z"
    }
   },
   "cell_type": "code",
   "source": "len(sg)",
   "id": "3a53c794b9c52705",
   "outputs": [
    {
     "data": {
      "text/plain": [
       "42"
      ]
     },
     "execution_count": 26,
     "metadata": {},
     "output_type": "execute_result"
    }
   ],
   "execution_count": 26
  },
  {
   "metadata": {
    "ExecuteTime": {
     "end_time": "2024-12-09T04:04:28.860383Z",
     "start_time": "2024-12-09T04:04:28.822404Z"
    }
   },
   "cell_type": "code",
   "source": "%reset -f",
   "id": "516deb871915e347",
   "outputs": [],
   "execution_count": 27
  },
  {
   "metadata": {
    "ExecuteTime": {
     "end_time": "2024-12-09T04:04:29.234104Z",
     "start_time": "2024-12-09T04:04:29.230934Z"
    }
   },
   "cell_type": "code",
   "source": [
    "test_solution_grid = \"\"\"\n",
    "##....#....#\n",
    ".#.#....0...\n",
    "..#.#0....#.\n",
    "..##...0....\n",
    "....0....#..\n",
    ".#...#A....#\n",
    "...#..#.....\n",
    "#....#.#....\n",
    "..#.....A...\n",
    "....#....A..\n",
    ".#........#.\n",
    "...#......##\n",
    "\"\"\""
   ],
   "id": "6c6ded773bf453de",
   "outputs": [],
   "execution_count": 28
  },
  {
   "metadata": {
    "ExecuteTime": {
     "end_time": "2024-12-09T04:04:29.671171Z",
     "start_time": "2024-12-09T04:04:29.664803Z"
    }
   },
   "cell_type": "code",
   "source": [
    "grid = []\n",
    "for j, line in enumerate(test_solution_grid.splitlines()[1:]):\n",
    "    row = [f\"[{j}]\".center(5, \" \")]\n",
    "    for i, char in enumerate(line):\n",
    "        if char == \".\":\n",
    "            row.append(str(i).center(5, \" \"))\n",
    "        elif char == \"#\":\n",
    "            row.append(\" {#} \")\n",
    "        else:\n",
    "            row.append(f\" [{char}] \")\n",
    "    grid.append(\"\".join(row))\n",
    "\n",
    "grid"
   ],
   "id": "8c27129848cd707e",
   "outputs": [
    {
     "data": {
      "text/plain": [
       "[' [0]  {#}  {#}   2    3    4    5   {#}   7    8    9    10  {#} ',\n",
       " ' [1]   0   {#}   2   {#}   4    5    6    7   [0]   9    10   11 ',\n",
       " ' [2]   0    1   {#}   3   {#}  [0]   6    7    8    9   {#}   11 ',\n",
       " ' [3]   0    1   {#}  {#}   4    5    6   [0]   8    9    10   11 ',\n",
       " ' [4]   0    1    2    3   [0]   5    6    7    8   {#}   10   11 ',\n",
       " ' [5]   0   {#}   2    3    4   {#}  [A]   7    8    9    10  {#} ',\n",
       " ' [6]   0    1    2   {#}   4    5   {#}   7    8    9    10   11 ',\n",
       " ' [7]  {#}   1    2    3    4   {#}   6   {#}   8    9    10   11 ',\n",
       " ' [8]   0    1   {#}   3    4    5    6    7   [A]   9    10   11 ',\n",
       " ' [9]   0    1    2    3   {#}   5    6    7    8   [A]   10   11 ',\n",
       " ' [10]  0   {#}   2    3    4    5    6    7    8    9   {#}   11 ',\n",
       " ' [11]  0    1    2   {#}   4    5    6    7    8    9   {#}  {#} ']"
      ]
     },
     "execution_count": 29,
     "metadata": {},
     "output_type": "execute_result"
    }
   ],
   "execution_count": 29
  },
  {
   "metadata": {
    "ExecuteTime": {
     "end_time": "2024-12-09T04:04:30.063399Z",
     "start_time": "2024-12-09T04:04:30.059980Z"
    }
   },
   "cell_type": "code",
   "source": [
    "solution = []\n",
    "for j, line in enumerate(test_solution_grid.splitlines()[1:]):\n",
    "    for i, char in enumerate(line):\n",
    "        if char != \".\":\n",
    "            solution.append((j, i))\n",
    "print(len(solution))"
   ],
   "id": "40efe2e269f9b2e0",
   "outputs": [
    {
     "name": "stdout",
     "output_type": "stream",
     "text": [
      "34\n"
     ]
    }
   ],
   "execution_count": 30
  },
  {
   "metadata": {
    "ExecuteTime": {
     "end_time": "2024-12-09T04:04:30.451205Z",
     "start_time": "2024-12-09T04:04:30.445412Z"
    }
   },
   "cell_type": "code",
   "source": "solution",
   "id": "bc71ef53d09bff93",
   "outputs": [
    {
     "data": {
      "text/plain": [
       "[(0, 0),\n",
       " (0, 1),\n",
       " (0, 6),\n",
       " (0, 11),\n",
       " (1, 1),\n",
       " (1, 3),\n",
       " (1, 8),\n",
       " (2, 2),\n",
       " (2, 4),\n",
       " (2, 5),\n",
       " (2, 10),\n",
       " (3, 2),\n",
       " (3, 3),\n",
       " (3, 7),\n",
       " (4, 4),\n",
       " (4, 9),\n",
       " (5, 1),\n",
       " (5, 5),\n",
       " (5, 6),\n",
       " (5, 11),\n",
       " (6, 3),\n",
       " (6, 6),\n",
       " (7, 0),\n",
       " (7, 5),\n",
       " (7, 7),\n",
       " (8, 2),\n",
       " (8, 8),\n",
       " (9, 4),\n",
       " (9, 9),\n",
       " (10, 1),\n",
       " (10, 10),\n",
       " (11, 3),\n",
       " (11, 10),\n",
       " (11, 11)]"
      ]
     },
     "execution_count": 31,
     "metadata": {},
     "output_type": "execute_result"
    }
   ],
   "execution_count": 31
  },
  {
   "metadata": {},
   "cell_type": "markdown",
   "source": [
    "Basic approach -\n",
    "* Find two nodes of a kind, they are always in a line.\n",
    "* Find the distance vector.\n",
    "* Pick any of the two nodes and start adding the distance vector till I reach the end of the grid.\n",
    "* Now keep subtracting till I reach the end."
   ],
   "id": "e3d22970c50eaea"
  },
  {
   "metadata": {
    "ExecuteTime": {
     "end_time": "2024-12-09T04:04:32.000527Z",
     "start_time": "2024-12-09T04:04:31.997221Z"
    }
   },
   "cell_type": "code",
   "source": "import day8_part1 as d8",
   "id": "d97fd7e3b4c91620",
   "outputs": [],
   "execution_count": 34
  },
  {
   "metadata": {
    "ExecuteTime": {
     "end_time": "2024-12-09T04:04:32.385583Z",
     "start_time": "2024-12-09T04:04:32.381501Z"
    }
   },
   "cell_type": "code",
   "source": [
    "n1 = d8.Vec(3, 7)\n",
    "n2 = d8.Vec(2, 5)\n",
    "d = n1 - n2\n",
    "d.to_tuple()"
   ],
   "id": "2816603efc1b00ad",
   "outputs": [
    {
     "data": {
      "text/plain": [
       "(1, 2)"
      ]
     },
     "execution_count": 35,
     "metadata": {},
     "output_type": "execute_result"
    }
   ],
   "execution_count": 35
  },
  {
   "metadata": {
    "ExecuteTime": {
     "end_time": "2024-12-09T04:04:32.759401Z",
     "start_time": "2024-12-09T04:04:32.754197Z"
    }
   },
   "cell_type": "code",
   "source": [
    "a = n1 + d\n",
    "while d8.within_bounds(12, 12, a):\n",
    "    print(a.to_tuple())\n",
    "    a = a + d"
   ],
   "id": "6563337788e217ce",
   "outputs": [
    {
     "name": "stdout",
     "output_type": "stream",
     "text": [
      "(4, 9)\n",
      "(5, 11)\n"
     ]
    }
   ],
   "execution_count": 36
  },
  {
   "metadata": {
    "ExecuteTime": {
     "end_time": "2024-12-09T04:04:33.122924Z",
     "start_time": "2024-12-09T04:04:33.119348Z"
    }
   },
   "cell_type": "code",
   "source": [
    "b = n1 - d\n",
    "while d8.within_bounds(12, 12, b):\n",
    "    print(b.to_tuple())\n",
    "    b = b - d"
   ],
   "id": "538110934cf31b3e",
   "outputs": [
    {
     "name": "stdout",
     "output_type": "stream",
     "text": [
      "(2, 5)\n",
      "(1, 3)\n",
      "(0, 1)\n"
     ]
    }
   ],
   "execution_count": 37
  },
  {
   "metadata": {},
   "cell_type": "code",
   "source": "",
   "id": "5c667966301dc55e",
   "outputs": [],
   "execution_count": null
  }
 ],
 "metadata": {
  "kernelspec": {
   "display_name": "Python 3",
   "language": "python",
   "name": "python3"
  },
  "language_info": {
   "codemirror_mode": {
    "name": "ipython",
    "version": 2
   },
   "file_extension": ".py",
   "mimetype": "text/x-python",
   "name": "python",
   "nbconvert_exporter": "python",
   "pygments_lexer": "ipython2",
   "version": "2.7.6"
  }
 },
 "nbformat": 4,
 "nbformat_minor": 5
}
