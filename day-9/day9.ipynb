{
 "cells": [
  {
   "cell_type": "code",
   "id": "initial_id",
   "metadata": {
    "collapsed": true,
    "ExecuteTime": {
     "end_time": "2024-12-10T02:46:25.080131Z",
     "start_time": "2024-12-10T02:46:25.076426Z"
    }
   },
   "source": "test_input_1 = \"12345\"",
   "outputs": [],
   "execution_count": 12
  },
  {
   "metadata": {
    "ExecuteTime": {
     "end_time": "2024-12-10T02:46:25.691080Z",
     "start_time": "2024-12-10T02:46:25.680663Z"
    }
   },
   "cell_type": "code",
   "source": [
    "test_inflated = []\n",
    "file_id = 0\n",
    "for i, n in enumerate(test_input_1):\n",
    "    if i % 2 == 0:\n",
    "        test_inflated += [file_id] * int(n)\n",
    "        file_id += 1\n",
    "    else:\n",
    "        test_inflated += [-1] * int(n)\n",
    "test_inflated"
   ],
   "id": "89250721e676b5f9",
   "outputs": [
    {
     "data": {
      "text/plain": [
       "[0, -1, -1, 1, 1, 1, -1, -1, -1, -1, 2, 2, 2, 2, 2]"
      ]
     },
     "execution_count": 13,
     "metadata": {},
     "output_type": "execute_result"
    }
   ],
   "execution_count": 13
  },
  {
   "metadata": {
    "ExecuteTime": {
     "end_time": "2024-12-10T02:47:11.858505Z",
     "start_time": "2024-12-10T02:47:11.854036Z"
    }
   },
   "cell_type": "code",
   "source": [
    "i = 0\n",
    "j = len(test_inflated) - 1"
   ],
   "id": "f694999f7f14d06c",
   "outputs": [],
   "execution_count": 15
  },
  {
   "metadata": {
    "ExecuteTime": {
     "end_time": "2024-12-10T02:48:02.527247Z",
     "start_time": "2024-12-10T02:48:02.522525Z"
    }
   },
   "cell_type": "code",
   "source": [
    "while i < j:\n",
    "    if test_inflated[i] != -1:\n",
    "        i += 1\n",
    "        continue\n",
    "    if test_inflated[j] == \".\":\n",
    "        j -= 1\n",
    "        continue\n",
    "    # Now there is an empty space in front and filled in slot at the end\n",
    "    test_inflated[i] = test_inflated[j]\n",
    "    test_inflated[j] = -1\n",
    "    i += 1\n",
    "    j -= 1"
   ],
   "id": "948bec3e68bff097",
   "outputs": [],
   "execution_count": 16
  },
  {
   "metadata": {
    "ExecuteTime": {
     "end_time": "2024-12-10T02:48:16.155295Z",
     "start_time": "2024-12-10T02:48:16.148956Z"
    }
   },
   "cell_type": "code",
   "source": "test_inflated",
   "id": "b2efa49262b0563",
   "outputs": [
    {
     "data": {
      "text/plain": [
       "[0, 2, 2, 1, 1, 1, 2, 2, 2, -1, -1, -1, -1, -1, -1]"
      ]
     },
     "execution_count": 17,
     "metadata": {},
     "output_type": "execute_result"
    }
   ],
   "execution_count": 17
  },
  {
   "metadata": {
    "ExecuteTime": {
     "end_time": "2024-12-10T02:49:15.426125Z",
     "start_time": "2024-12-10T02:49:15.420683Z"
    }
   },
   "cell_type": "code",
   "source": "test_input_2 = \"2333133121414131402\"",
   "id": "c08b90a83586f6e0",
   "outputs": [],
   "execution_count": 18
  },
  {
   "metadata": {
    "ExecuteTime": {
     "end_time": "2024-12-10T02:52:46.188150Z",
     "start_time": "2024-12-10T02:52:46.178761Z"
    }
   },
   "cell_type": "code",
   "source": [
    "test_inflated = []\n",
    "file_id = 0\n",
    "for i, n in enumerate(test_input_2):\n",
    "    if i % 2 == 0:\n",
    "        test_inflated += [file_id] * int(n)\n",
    "        file_id += 1\n",
    "    else:\n",
    "        test_inflated += [-1] * int(n)\n",
    "test_inflated"
   ],
   "id": "2316134c27bf7a55",
   "outputs": [
    {
     "data": {
      "text/plain": [
       "[0,\n",
       " 0,\n",
       " -1,\n",
       " -1,\n",
       " -1,\n",
       " 1,\n",
       " 1,\n",
       " 1,\n",
       " -1,\n",
       " -1,\n",
       " -1,\n",
       " 2,\n",
       " -1,\n",
       " -1,\n",
       " -1,\n",
       " 3,\n",
       " 3,\n",
       " 3,\n",
       " -1,\n",
       " 4,\n",
       " 4,\n",
       " -1,\n",
       " 5,\n",
       " 5,\n",
       " 5,\n",
       " 5,\n",
       " -1,\n",
       " 6,\n",
       " 6,\n",
       " 6,\n",
       " 6,\n",
       " -1,\n",
       " 7,\n",
       " 7,\n",
       " 7,\n",
       " -1,\n",
       " 8,\n",
       " 8,\n",
       " 8,\n",
       " 8,\n",
       " 9,\n",
       " 9]"
      ]
     },
     "execution_count": 24,
     "metadata": {},
     "output_type": "execute_result"
    }
   ],
   "execution_count": 24
  },
  {
   "metadata": {
    "ExecuteTime": {
     "end_time": "2024-12-10T02:52:49.111860Z",
     "start_time": "2024-12-10T02:52:49.106642Z"
    }
   },
   "cell_type": "code",
   "source": [
    "i = 0\n",
    "j = len(test_inflated) - 1"
   ],
   "id": "387862a27e9cd9b2",
   "outputs": [],
   "execution_count": 25
  },
  {
   "metadata": {
    "ExecuteTime": {
     "end_time": "2024-12-10T02:52:51.780655Z",
     "start_time": "2024-12-10T02:52:51.775497Z"
    }
   },
   "cell_type": "code",
   "source": [
    "while i < j:\n",
    "    if test_inflated[i] != -1:\n",
    "        i += 1\n",
    "        continue\n",
    "    if test_inflated[j] == -1:\n",
    "        j -= 1\n",
    "        continue\n",
    "    # Now there is an empty space in front and filled in slot at the end\n",
    "    test_inflated[i] = test_inflated[j]\n",
    "    test_inflated[j] = -1\n",
    "    i += 1\n",
    "    j -= 1"
   ],
   "id": "c52a0ae2a053d5f5",
   "outputs": [],
   "execution_count": 26
  },
  {
   "metadata": {
    "ExecuteTime": {
     "end_time": "2024-12-10T02:52:57.396044Z",
     "start_time": "2024-12-10T02:52:57.389462Z"
    }
   },
   "cell_type": "code",
   "source": "test_inflated",
   "id": "4f72493b80d2b3ec",
   "outputs": [
    {
     "data": {
      "text/plain": [
       "[0,\n",
       " 0,\n",
       " 9,\n",
       " 9,\n",
       " 8,\n",
       " 1,\n",
       " 1,\n",
       " 1,\n",
       " 8,\n",
       " 8,\n",
       " 8,\n",
       " 2,\n",
       " 7,\n",
       " 7,\n",
       " 7,\n",
       " 3,\n",
       " 3,\n",
       " 3,\n",
       " 6,\n",
       " 4,\n",
       " 4,\n",
       " 6,\n",
       " 5,\n",
       " 5,\n",
       " 5,\n",
       " 5,\n",
       " 6,\n",
       " 6,\n",
       " -1,\n",
       " -1,\n",
       " -1,\n",
       " -1,\n",
       " -1,\n",
       " -1,\n",
       " -1,\n",
       " -1,\n",
       " -1,\n",
       " -1,\n",
       " -1,\n",
       " -1,\n",
       " -1,\n",
       " -1]"
      ]
     },
     "execution_count": 27,
     "metadata": {},
     "output_type": "execute_result"
    }
   ],
   "execution_count": 27
  },
  {
   "metadata": {
    "ExecuteTime": {
     "end_time": "2024-12-10T03:02:40.612371Z",
     "start_time": "2024-12-10T03:02:40.605323Z"
    }
   },
   "cell_type": "code",
   "source": [
    "checksum = sum(n * i for i, n in enumerate(test_inflated) if n != -1)\n",
    "checksum"
   ],
   "id": "dd47060595545567",
   "outputs": [
    {
     "data": {
      "text/plain": [
       "1928"
      ]
     },
     "execution_count": 28,
     "metadata": {},
     "output_type": "execute_result"
    }
   ],
   "execution_count": 28
  },
  {
   "metadata": {
    "ExecuteTime": {
     "end_time": "2024-12-10T03:15:02.222597Z",
     "start_time": "2024-12-10T03:15:02.216344Z"
    }
   },
   "cell_type": "code",
   "source": "from pathlib import Path",
   "id": "5e738f4bdba02c49",
   "outputs": [],
   "execution_count": 29
  },
  {
   "metadata": {
    "ExecuteTime": {
     "end_time": "2024-12-10T03:16:03.754672Z",
     "start_time": "2024-12-10T03:16:03.749772Z"
    }
   },
   "cell_type": "code",
   "source": "input_ = Path(\"input.txt\").read_text().splitlines()[0]",
   "id": "33eee6ff27edbb7b",
   "outputs": [],
   "execution_count": 32
  },
  {
   "metadata": {
    "ExecuteTime": {
     "end_time": "2024-12-10T03:16:04.267244Z",
     "start_time": "2024-12-10T03:16:04.259659Z"
    }
   },
   "cell_type": "code",
   "source": "len(input_)",
   "id": "21489a6e6d840fa0",
   "outputs": [
    {
     "data": {
      "text/plain": [
       "19999"
      ]
     },
     "execution_count": 33,
     "metadata": {},
     "output_type": "execute_result"
    }
   ],
   "execution_count": 33
  },
  {
   "metadata": {
    "ExecuteTime": {
     "end_time": "2024-12-11T00:09:31.859857Z",
     "start_time": "2024-12-11T00:09:31.851452Z"
    }
   },
   "cell_type": "code",
   "source": "type(range(0))",
   "id": "baf6d95b14bcc341",
   "outputs": [
    {
     "data": {
      "text/plain": [
       "range"
      ]
     },
     "execution_count": 1,
     "metadata": {},
     "output_type": "execute_result"
    }
   ],
   "execution_count": 1
  },
  {
   "metadata": {
    "ExecuteTime": {
     "end_time": "2024-12-11T08:02:44.051930Z",
     "start_time": "2024-12-11T08:02:43.896408Z"
    }
   },
   "cell_type": "code",
   "source": "%reset -f",
   "id": "e93ab1e0ea85dac2",
   "outputs": [],
   "execution_count": 46
  },
  {
   "metadata": {
    "ExecuteTime": {
     "end_time": "2024-12-11T08:06:30.944345Z",
     "start_time": "2024-12-11T08:06:30.940832Z"
    }
   },
   "cell_type": "code",
   "source": [
    "# disk = \"00...111...2...333.44.5555.6666.777.888899\"\n",
    "disk = \"00992111777.44.333....5555.6666.....8888..\"\n",
    "for i, file_id in enumerate(disk):\n",
    "    print(f\"[{i}] = {file_id}\")"
   ],
   "id": "b22f81ae84563f4e",
   "outputs": [
    {
     "name": "stdout",
     "output_type": "stream",
     "text": [
      "[0] = 0\n",
      "[1] = 0\n",
      "[2] = 9\n",
      "[3] = 9\n",
      "[4] = 2\n",
      "[5] = 1\n",
      "[6] = 1\n",
      "[7] = 1\n",
      "[8] = 7\n",
      "[9] = 7\n",
      "[10] = 7\n",
      "[11] = .\n",
      "[12] = 4\n",
      "[13] = 4\n",
      "[14] = .\n",
      "[15] = 3\n",
      "[16] = 3\n",
      "[17] = 3\n",
      "[18] = .\n",
      "[19] = .\n",
      "[20] = .\n",
      "[21] = .\n",
      "[22] = 5\n",
      "[23] = 5\n",
      "[24] = 5\n",
      "[25] = 5\n",
      "[26] = .\n",
      "[27] = 6\n",
      "[28] = 6\n",
      "[29] = 6\n",
      "[30] = 6\n",
      "[31] = .\n",
      "[32] = .\n",
      "[33] = .\n",
      "[34] = .\n",
      "[35] = .\n",
      "[36] = 8\n",
      "[37] = 8\n",
      "[38] = 8\n",
      "[39] = 8\n",
      "[40] = .\n",
      "[41] = .\n"
     ]
    }
   ],
   "execution_count": 48
  },
  {
   "metadata": {},
   "cell_type": "code",
   "outputs": [],
   "execution_count": null,
   "source": "",
   "id": "48b3f224e5ec77d0"
  }
 ],
 "metadata": {
  "kernelspec": {
   "display_name": "Python 3",
   "language": "python",
   "name": "python3"
  },
  "language_info": {
   "codemirror_mode": {
    "name": "ipython",
    "version": 2
   },
   "file_extension": ".py",
   "mimetype": "text/x-python",
   "name": "python",
   "nbconvert_exporter": "python",
   "pygments_lexer": "ipython2",
   "version": "2.7.6"
  }
 },
 "nbformat": 4,
 "nbformat_minor": 5
}
